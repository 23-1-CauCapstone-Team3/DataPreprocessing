{
 "cells": [
  {
   "attachments": {},
   "cell_type": "markdown",
   "metadata": {},
   "source": [
    "# 🚆Train_station\n",
    "지하철 정류장 데이터 전처리"
   ]
  },
  {
   "attachments": {},
   "cell_type": "markdown",
   "metadata": {},
   "source": [
    "### TODO\n",
    "- [X] 데이터 불러오기, 필요없는 로우 및 컬럼 일차 삭제  \n",
    "- [X] 결측값 확인\n",
    "  - [X] 위경도 결측값 분석\n",
    "  - [X] 결측값 채워진 데이터셋 구하기\n",
    "  - [X] 노선명 통일\n",
    "  - [X] 역사명 통일\n",
    "- [X] 두 데이터셋 하나로 결합\n",
    "  - [X] 역사명, 노선명 통일 \n",
    "  - [X] 노선명을 지하철 호선명으로 통일, 중복역 확인\n",
    "  - [X] 위경도 이상값 확인 \n",
    "  - [X] 위경도 결측값 재확인\n",
    "- [X] 지도에 시각화\n",
    "  - [X] 이상값 확인\n",
    "- [X] 역번호, 노선번호 맞추기\n",
    "  - [X] 서울시 지하철 실시간 도착 정보에 쓰이는 역 종류 확인\n",
    "  - [X] ~~전체 지하철 시간표 정보에 쓰이는 역 종류 확인~~\n",
    "  - [X] 역사명 통일\n",
    "  - [X] 노선명 통일\n",
    "  - [X] 역번호 통일\n",
    "  - [ ] ~~노선번호 통일~~\n",
    "- [X] 노선도와 비교\n",
    "- [ ] ~~서울 인접 역만 남기기~~\n",
    "  - [X] 주소 데이터 결측값 확인\n",
    "  - [X] 결측값 수동으로 채우기\n",
    "  - [ ] ~~서울 인접 역만 남기고 자르기~~\n",
    "  - [ ] ~~이상값 확인~~\n",
    "- [X] 필요 없는 컬럼 제거\n",
    "- [ ] 환승역, 종점, 분기역 정보 가공\n",
    "- [X] 파일 생성\n",
    "- [X] 역번호 맞추기\n",
    "  - [X] 역번호 API로부터 가져오기\n",
    "  - [X] station 파일과 맞추기\n",
    "- [ ] 역이름 맞추기\n",
    "  - [ ] 역이름 API로부터 가져오기\n",
    "  - [ ] station 파일과 맞추기"
   ]
  },
  {
   "attachments": {},
   "cell_type": "markdown",
   "metadata": {},
   "source": [
    "### 0. import"
   ]
  },
  {
   "cell_type": "code",
   "execution_count": 2,
   "metadata": {},
   "outputs": [],
   "source": [
    "import pandas as pd\n",
    "import numpy as np\n",
    "import seaborn as sns\n",
    "from matplotlib import pyplot as plt\n",
    "from IPython.display import set_matplotlib_formats\n",
    "import koreanize_matplotlib\n",
    "import folium\n",
    "import urllib.request\n",
    "import json\n",
    "import time"
   ]
  },
  {
   "attachments": {},
   "cell_type": "markdown",
   "metadata": {},
   "source": [
    "### 1. 데이터 불러오기, 필요없는 로우 및 컬럼 일차 삭제  "
   ]
  },
  {
   "cell_type": "code",
   "execution_count": null,
   "metadata": {},
   "outputs": [],
   "source": [
    "# 데이터 읽어오기\n",
    "station = pd.read_csv('train_station.csv')\n",
    "\n",
    "# 확실히 필요없는 컬럼 제거\n",
    "station = station.drop(columns=['영문역사명', '한자역사명', '운영기관명', '역사전화번호','데이터기준일자'])\n",
    "\n",
    "station.rename(columns={'역사도로명주소': '주소'}, inplace=True)\n",
    "\n",
    "# 확실히 필요없는 행 제거\n",
    "# # 인천 1~2호선\n",
    "# station = station[(station['노선번호'].str.slice(stop=3) != 'S28')]\n",
    "# 인천 자기부상철도 -> 휴업 상태\n",
    "station = station[(station['노선번호'] != 'S28M1')]\n",
    "# 대전\n",
    "station = station[(station['노선번호'].str.slice(start=1, stop=3) != '30')]\n",
    "# 대구 1~3호선\n",
    "station = station[(station['노선번호'].str.slice(start=1, stop=3) != '27')]\n",
    "# 부산 1~4호선, 김해선\n",
    "station = station[(station['노선번호'].str.slice(start=1, stop=3) != '26') & (station['노선번호'] != 'L48B1')]\n",
    "# 광주\n",
    "station = station[(station['노선번호'].str.slice(start=1, stop=3) != '29')]\n",
    "\n",
    "# # 나중을 위해 역번호 저장\n",
    "# station_id = station['역번호']\n",
    "\n",
    "station = station.reset_index(drop=True)\n",
    "station"
   ]
  },
  {
   "attachments": {},
   "cell_type": "markdown",
   "metadata": {},
   "source": [
    "### 2. 결측값 확인"
   ]
  },
  {
   "attachments": {},
   "cell_type": "markdown",
   "metadata": {},
   "source": [
    "##### 2-a. 위경도 결측값 분석"
   ]
  },
  {
   "cell_type": "code",
   "execution_count": null,
   "metadata": {},
   "outputs": [],
   "source": [
    "# 역이 노선별로 총 몇 개인지 확인\n",
    "# 1호선이어도, 구간별로 노선 명칭 다름 (우리가 아는 1호선 = 경원선 + 1호선 + 경인선 + 경부선 + 장항선)\n",
    "total_station_cnt_by_route = station[\"노선명\"].value_counts().sort_index()\n",
    "total_station_cnt_by_route"
   ]
  },
  {
   "cell_type": "code",
   "execution_count": null,
   "metadata": {},
   "outputs": [],
   "source": [
    "# 결측값이 컬럼별로 몇 개인지 확인\n",
    "station.isnull().sum()"
   ]
  },
  {
   "cell_type": "code",
   "execution_count": null,
   "metadata": {},
   "outputs": [],
   "source": [
    "# 역위도, 역경도가 결측값인 역이 노선별로 몇 개인지 확인\n",
    "null_station_cnt_by_route = station['노선명'][station['역위도'].isnull(\n",
    ")].value_counts().sort_index()\n",
    "null_station_cnt_by_route"
   ]
  },
  {
   "attachments": {},
   "cell_type": "markdown",
   "metadata": {},
   "source": [
    "##### 2-b. 결측값 채워진 데이터셋 구하기"
   ]
  },
  {
   "cell_type": "code",
   "execution_count": null,
   "metadata": {},
   "outputs": [],
   "source": [
    "# 1. 노선별 전체 역 개수가 실제 역 개수와 다름\n",
    "# 2. 위경도 결측 데이터가 존재하는 노선에 대해 알아본 결과, 서울시 역사마스터 정보와 제대로 합처지지 않은 것으로 보임\n",
    "# -> 서울시 역사마스터 정보와의 결합 필요\n",
    "\n",
    "# 서울시 역사마스터 데이터 읽어오기\n",
    "station_seoul = pd.read_csv('train_station_seoul.csv')\n",
    "\n",
    "# 기존 데이터셋과 컬럼 이름 맞추기\n",
    "station_seoul.rename(columns={'역사_ID': '역번호', '호선': '노선명'}, inplace=True)\n",
    "station.rename(columns={'역위도': '위도', '역경도': '경도'}, inplace=True)\n",
    "\n",
    "# 서울시 역사마스터 데이터, 위도와 경도가 반대로 들어가 있는 문제 해결\n",
    "station_seoul.rename(columns={'위도': '경도', '경도': '위도'}, inplace=True)\n",
    "station_seoul = station_seoul[['역번호', '역사명', '노선명', '위도', '경도']]\n",
    "\n",
    "station_seoul"
   ]
  },
  {
   "cell_type": "code",
   "execution_count": null,
   "metadata": {},
   "outputs": [],
   "source": [
    "# 역이 노선별로 몇 개인지 확인\n",
    "total_station_seoul_cnt_by_route = station_seoul[\"노선명\"].value_counts().sort_index()\n",
    "total_station_seoul_cnt_by_route\n",
    "\n",
    "# 확인 결과, 앞서 전체 역정보 데이터셋에 빠진 일부 역이 이 데이터셋에는 포함되어 있음 (역 개수 더 많음)"
   ]
  },
  {
   "cell_type": "code",
   "execution_count": null,
   "metadata": {},
   "outputs": [],
   "source": [
    "# 역위도, 역경도가 결측값인 역이 노선별로 몇 개인지 확인\n",
    "station_seoul.isnull().sum()\n",
    "\n",
    "# 확인 결과, 해당 데이터셋은 위경도 정보가 빠진 것 없이 잘 들어있음 "
   ]
  },
  {
   "attachments": {},
   "cell_type": "markdown",
   "metadata": {},
   "source": [
    "##### 2-c. 노선명 통일"
   ]
  },
  {
   "cell_type": "code",
   "execution_count": null,
   "metadata": {},
   "outputs": [],
   "source": [
    "# 둘 중 한 데이터셋에만 있는 노선명 확인\n",
    "route_name = set(total_station_cnt_by_route.index)\n",
    "route_name_seoul = set(total_station_seoul_cnt_by_route.index)\n",
    "sub_route_name = route_name - route_name_seoul\n",
    "sub_route_name_seoul = route_name_seoul - route_name\n",
    "\n",
    "print(sub_route_name)\n",
    "print(sub_route_name_seoul)"
   ]
  },
  {
   "cell_type": "code",
   "execution_count": null,
   "metadata": {},
   "outputs": [],
   "source": [
    "# 노선명 통일\n",
    "station[\"노선명\"] = station[\"노선명\"].replace({\n",
    "    \"도시철도 7호선\": \"7호선\",\n",
    "    \"수도권  도시철도 9호선\": \"9호선\",\n",
    "    \"수도권 경량도시철도 신림선\": \"신림선\",\n",
    "    \"인천지하철 1호선\": \"인천1호선\",\n",
    "    \"인천지하철 2호선\": \"인천2호선\",\n",
    "    \"인천국제공항선\": \"공항철도선\",\n",
    "    \"에버라인\": \"에버라인선\",\n",
    "    \"의정부\": \"의정부선\"\n",
    "})\n",
    "\n",
    "station_seoul[\"노선명\"] = station_seoul[\"노선명\"].replace({\n",
    "    \"공항철도1호선\": \"공항철도선\",\n",
    "    \"안산선\": \"안산과천선\",\n",
    "    \"과천선\": \"안산과천선\",\n",
    "    \"9호선(연장)\": \"9호선\",\n",
    "    \"7호선(인천)\": \"7호선\",\n",
    "    \"신분당선(연장)\": \"신분당선\",\n",
    "    \"신분당선(연장2)\": \"신분당선\"\n",
    "})\n",
    "\n",
    "# 둘 중 한 데이터셋에만 있는 노선명 재확인\n",
    "route_name = set(station[\"노선명\"])\n",
    "route_name_seoul = set(station_seoul[\"노선명\"])\n",
    "sub_route_name = route_name - route_name_seoul\n",
    "sub_route_name_seoul = route_name_seoul - route_name\n",
    "\n",
    "print(sub_route_name)\n",
    "print(sub_route_name_seoul)\n",
    "\n",
    "# 장항선, 중앙선은 이후 역 종류 보고 어디에 넣을지 결정하기 "
   ]
  },
  {
   "cell_type": "code",
   "execution_count": null,
   "metadata": {},
   "outputs": [],
   "source": [
    "# 각 노선별 역 개수 확인해 보기\n",
    "total_station_cnt_by_route = station[\"노선명\"].value_counts().sort_index()\n",
    "total_station_cnt_by_route"
   ]
  },
  {
   "cell_type": "code",
   "execution_count": null,
   "metadata": {},
   "outputs": [],
   "source": [
    "total_station_seoul_cnt_by_route = station_seoul[\"노선명\"].value_counts().sort_index()\n",
    "total_station_seoul_cnt_by_route"
   ]
  },
  {
   "attachments": {},
   "cell_type": "markdown",
   "metadata": {},
   "source": [
    "##### 2-d. 역사명 통일"
   ]
  },
  {
   "cell_type": "code",
   "execution_count": null,
   "metadata": {},
   "outputs": [],
   "source": [
    "# 둘 중 한 데이터셋에만 있는 역사명 확인\n",
    "station_name = set(station[\"역사명\"])\n",
    "station_name_seoul = set(station_seoul[\"역사명\"])\n",
    "sub_station_name = sorted(station_name - station_name_seoul)\n",
    "sub_station_name_seoul = sorted(station_name_seoul - station_name)\n",
    "\n",
    "print(sub_station_name)\n",
    "print(sub_station_name_seoul)"
   ]
  },
  {
   "cell_type": "code",
   "execution_count": null,
   "metadata": {},
   "outputs": [],
   "source": [
    "# 역이름 통일\n",
    "# 역이름 맨 끝에 등장하는'역'자 제거\n",
    "station['역사명'] = station['역사명'].str.replace(pat=r'역$', repl=r'', regex=True)\n",
    "# 서울역은 다시 '역' 추가 처리 \n",
    "station['역사명'] = station['역사명'].str.replace(pat=r'^서울$', repl=r'서울역', regex=True)\n",
    "\n",
    "# 결과 다시 확인\n",
    "station_name = set(station[\"역사명\"])\n",
    "station_name_seoul = set(station_seoul[\"역사명\"])\n",
    "sub_station_name = sorted(station_name - station_name_seoul)\n",
    "sub_station_name_seoul = sorted(station_name_seoul - station_name)\n",
    "\n",
    "print(sub_station_name)\n",
    "print(sub_station_name_seoul)"
   ]
  },
  {
   "cell_type": "code",
   "execution_count": null,
   "metadata": {},
   "outputs": [],
   "source": [
    "# 특수문자 .으로 통일\n",
    "station['역사명'] = station['역사명'].str.replace(pat=r'[·∙-]', repl=r'.', regex=True)\n",
    "station_seoul['역사명'] = station_seoul['역사명'].str.replace(\n",
    "    pat=r'[·∙-]', repl=r'.', regex=True)\n",
    "\n",
    "# 수동 맞추기 -> 괄호 생기는 방향으로 (단, 지하/지상 정보, 노선명인 경우 제거)\n",
    "station[\"역사명\"] = station[\"역사명\"].replace({\n",
    "    \"동작\": \"동작(현충원)\",\n",
    "    \"검단오류\": \"검단오류(검단산업단지)\",\n",
    "    \"관악산\": \"관악산(서울대)\",\n",
    "    \"서울역(경의선)\": \"서울역\",\n",
    "    \"시민공원\": \"시민공원(문화창작지대)\",\n",
    "    \"수원(분당)\": \"수원\",\n",
    "    \"신촌(지하)\": \"신촌\",\n",
    "    \"운연\": \"운연(서창)\",\n",
    "    \"흑석\": \"흑석(중앙대입구)\",\n",
    "    \"아시아드경기장\": \"아시아드경기장(공촌사거리)\",\n",
    "})\n",
    "\n",
    "station_seoul[\"역사명\"] = station_seoul[\"역사명\"].replace({\n",
    "    \"낙성대\": \"낙성대(강감찬)\",\n",
    "    \"동대문역사문화공원\": \"동대문역사문화공원(DDP)\",\n",
    "    \"동백\": \"동백(용인세브란스)\",\n",
    "    \"운동장.송담대\": \"운동장.송담대(중앙시장)\",\n",
    "    \"용마산\": \"용마산(용마폭포공원)\",\n",
    "})\n",
    "\n",
    "# 결과 다시 확인\n",
    "station_name = set(station[\"역사명\"])\n",
    "station_name_seoul = set(station_seoul[\"역사명\"])\n",
    "sub_station_name = sorted(station_name - station_name_seoul)\n",
    "sub_station_name_seoul = sorted(station_name_seoul - station_name)\n",
    "\n",
    "print(sub_station_name)\n",
    "print(sub_station_name_seoul)"
   ]
  },
  {
   "attachments": {},
   "cell_type": "markdown",
   "metadata": {},
   "source": [
    "### 3. 두 데이터셋 하나로 결합"
   ]
  },
  {
   "attachments": {},
   "cell_type": "markdown",
   "metadata": {},
   "source": [
    "##### 3-a. 역사명, 노선명 하나로 합치기"
   ]
  },
  {
   "cell_type": "code",
   "execution_count": null,
   "metadata": {},
   "outputs": [],
   "source": [
    "# 일단 하나로 합쳐보기\n",
    "station_result = pd.merge(station, station_seoul, on=['역사명', '노선명'], how='outer')\n",
    "station_result"
   ]
  },
  {
   "cell_type": "code",
   "execution_count": null,
   "metadata": {},
   "outputs": [],
   "source": [
    "# 역번호_x가 null인 값이 노선별로 몇 개 있는지 각각 확인해보기\n",
    "null_x_station_cnt_by_route = station_result['노선명'][station_result['역번호_x'].isnull(\n",
    ")].value_counts().sort_index()\n",
    "null_x_station_cnt_by_route"
   ]
  },
  {
   "cell_type": "code",
   "execution_count": null,
   "metadata": {},
   "outputs": [],
   "source": [
    "# 역번호_y가 null인 값이 노선별로 몇 개 있는지 각각 확인해보기\n",
    "null_y_station_cnt_by_route = station_result['노선명'][station_result['역번호_y'].isnull(\n",
    ")].value_counts().sort_index()\n",
    "null_y_station_cnt_by_route"
   ]
  },
  {
   "cell_type": "code",
   "execution_count": null,
   "metadata": {},
   "outputs": [],
   "source": [
    "# 5호선\n",
    "station_result[(station_result['노선명'] == '5호선') & (\n",
    "    station_result['역번호_x'].isnull() | station_result['역번호_y'].isnull())]\n",
    "\n",
    "# 역사명 합치기 \n",
    "station_result.drop(785, inplace=True)\n",
    "station_result.iloc[303, [10, 11, 12]] = (\n",
    "    2535.0, 37.57254, 126.99030)\n",
    "\n",
    "# 결과 확인\n",
    "# 모든 역사명을 종로3가(탑골공원)로 맞추기\n",
    "station_result[\"역사명\"] = station_result[\"역사명\"].replace({\n",
    "    \"종로3가\": \"종로3가(탑골공원)\"})\n",
    "station_result[station_result['역사명'] == '종로3가(탑골공원)']"
   ]
  },
  {
   "cell_type": "code",
   "execution_count": null,
   "metadata": {},
   "outputs": [],
   "source": [
    "# 7호선\n",
    "station_result[(station_result['노선명'] == '7호선') & (\n",
    "    station_result['역번호_x'].isnull() | station_result['역번호_y'].isnull())]\n",
    "\n",
    "# 역사명 합치기\n",
    "station_result.drop(784, inplace=True)\n",
    "station_result.iloc[403, [10, 11, 12]] = (\n",
    "    2738.0, 37.485196, 126.981605)\n",
    "\n",
    "# 결과 확인\n",
    "# 모든 역사명 맞추기\n",
    "station_result[\"역사명\"] = station_result[\"역사명\"].replace({\n",
    "    \"이수\": \"총신대입구(이수)\",\n",
    "    \"총신대입구\": \"총신대입구(이수)\"})\n",
    "station_result[station_result['역사명'] == '총신대입구(이수)']"
   ]
  },
  {
   "cell_type": "code",
   "execution_count": null,
   "metadata": {},
   "outputs": [],
   "source": [
    "# 9호선\n",
    "station_result[(station_result['노선명'] == '9호선') & (station_result['역번호_x'].isnull())]\n",
    "\n",
    "# 맞출 데이터 없음"
   ]
  },
  {
   "cell_type": "code",
   "execution_count": null,
   "metadata": {},
   "outputs": [],
   "source": [
    "# 경부선\n",
    "print(len(station_result[(station_result['노선명'] == '장항선') & (\n",
    "    station_result['역번호_x'].isnull())]))\n",
    "station_result[(station_result['노선명'] == '경부선') & (\n",
    "    station_result['역번호_x'].isnull() | station_result['역번호_y'].isnull())]\n",
    "\n",
    "# 나머지는 장항선과 합치기"
   ]
  },
  {
   "cell_type": "code",
   "execution_count": null,
   "metadata": {},
   "outputs": [],
   "source": [
    "# 서울역 데이터 수정 필요\n",
    "station_result.drop([558, 823], inplace=True)\n",
    "station_result[station_result['역사명'] == '서울역']"
   ]
  },
  {
   "cell_type": "code",
   "execution_count": null,
   "metadata": {},
   "outputs": [],
   "source": [
    "# 장항선\n",
    "print(len(station_result[(station_result['노선명'] == '장항선') & (\n",
    "    station_result['역번호_x'].isnull())]))\n",
    "station_result[(station_result['노선명'] == '장항선') & (\n",
    "    station_result['역번호_x'].isnull() | station_result['역번호_y'].isnull())]\n",
    "\n",
    "# 역사명 합치기\n",
    "station_result.drop([788, 789, 790, 791, 792, 793, 794] , inplace=True)\n",
    "station_result.iloc[504, [10, 11, 12]] = (\n",
    "    1401.0, 36.801215, 127.135763)\n",
    "station_result.iloc[505, [10, 11, 12]] = (\n",
    "    1402.0, 36.793759, 127.121400)\n",
    "station_result.iloc[506, [10, 11, 12]] = (\n",
    "    1403.0, 36.792053, 127.104361)\n",
    "station_result.iloc[507, [10, 11, 12]] = (\n",
    "    1404.0, 36.788660, 127.084850)\n",
    "station_result.iloc[508, [10, 11, 12]] = (\n",
    "    1405.0, 36.777629, 127.052991)\n",
    "station_result.iloc[509, [10, 11, 12]] = (\n",
    "    1407.0, 36.780483, 127.003249)\n",
    "station_result.iloc[510, [10, 11, 12]] = (\n",
    "    1408.0, 36.769502, 126.951108)\n",
    "\n",
    "station_result[(station_result['노선명'] == '장항선')]"
   ]
  },
  {
   "cell_type": "code",
   "execution_count": null,
   "metadata": {},
   "outputs": [],
   "source": [
    "# 바뀐 값 확인\n",
    "station_result.iloc[504:511]"
   ]
  },
  {
   "cell_type": "code",
   "execution_count": null,
   "metadata": {},
   "outputs": [],
   "source": [
    "# 경인선\n",
    "station_result[(station_result['노선명'] == '경인선') & (\n",
    "    station_result['역번호_x'].isnull() | station_result['역번호_y'].isnull())]\n",
    "\n",
    "# 역사명 합치기\n",
    "station_result.drop(786, inplace=True)\n",
    "station_result.iloc[620, [10, 11, 12]] = (\n",
    "    1821.0, 37.492433, 126.824086)\n",
    "\n",
    "# 결과 확인\n",
    "# 모든 역사명 맞추기\n",
    "station_result[\"역사명\"] = station_result[\"역사명\"].replace({\n",
    "    \"온수\": \"온수(성공회대입구)\"})\n",
    "station_result[station_result['역사명'] == \"온수(성공회대입구)\"]"
   ]
  },
  {
   "cell_type": "code",
   "execution_count": null,
   "metadata": {},
   "outputs": [],
   "source": [
    "# 경춘선\n",
    "station_result[(station_result['노선명'] == '경춘선') & (\n",
    "    station_result['역번호_x'].isnull() | station_result['역번호_y'].isnull())]"
   ]
  },
  {
   "cell_type": "code",
   "execution_count": null,
   "metadata": {},
   "outputs": [],
   "source": [
    "# 분당선\n",
    "station_result[(station_result['노선명'] == '분당선') & (\n",
    "    station_result['역번호_x'].isnull() | station_result['역번호_y'].isnull())]"
   ]
  },
  {
   "cell_type": "code",
   "execution_count": null,
   "metadata": {},
   "outputs": [],
   "source": [
    "# 서해선\n",
    "station_result[(station_result['노선명'] == '서해선') & (\n",
    "    station_result['역번호_x'].isnull() | station_result['역번호_y'].isnull())]\n",
    "\n",
    "# 원곡역 -> 시우역으로 이름 변화함\n",
    "station_result.drop(768, inplace=True)\n",
    "station_result.iloc[766, [10, 11, 12]] = (\n",
    "    4814.0, 37.31321, 126.796261)\n",
    "\n",
    "station_result[(station_result['노선명'] == '서해선') & (\n",
    "    station_result['역번호_x'].isnull() | station_result['역번호_y'].isnull())]"
   ]
  },
  {
   "cell_type": "code",
   "execution_count": null,
   "metadata": {},
   "outputs": [],
   "source": [
    "# 안산과천선\n",
    "station_result[(station_result['노선명'] == '안산과천선') & (\n",
    "    station_result['역번호_x'].isnull() | station_result['역번호_y'].isnull())]"
   ]
  },
  {
   "cell_type": "code",
   "execution_count": null,
   "metadata": {},
   "outputs": [],
   "source": [
    "# 수인선\n",
    "station_result[(station_result['노선명'] == '수인선') & (\n",
    "    station_result['역번호_x'].isnull() | station_result['역번호_y'].isnull())]"
   ]
  },
  {
   "cell_type": "code",
   "execution_count": null,
   "metadata": {},
   "outputs": [],
   "source": [
    "# 에버라인선\n",
    "station_result[(station_result['노선명'] == '에버라인선') & (\n",
    "    station_result['역번호_x'].isnull() | station_result['역번호_y'].isnull())]\n",
    "\n",
    "# 역사명 합치기\n",
    "station_result.drop(770, inplace=True)\n",
    "station_result.iloc[77, [10, 11, 12]] = (\n",
    "    4501.0, 37.275449, 127.116665)\n",
    "\n",
    "# 결과 확인\n",
    "# 모든 역사명 맞추기\n",
    "station_result[\"역사명\"] = station_result[\"역사명\"].replace({\n",
    "    \"기흥\": \"기흥(백남준아트센터)\"})\n",
    "station_result[station_result['역사명'] == \"기흥(백남준아트센터)\"]\n"
   ]
  },
  {
   "cell_type": "code",
   "execution_count": null,
   "metadata": {},
   "outputs": [],
   "source": [
    "# 우이신설선\n",
    "station_result[(station_result['노선명'] == '우이신설선') & (\n",
    "    station_result['역번호_x'].isnull() | station_result['역번호_y'].isnull())]\n",
    "\n",
    "# 역사명 합치기\n",
    "station_result.drop(769, inplace=True)\n",
    "station_result.iloc[116, [10, 11, 12]] = (\n",
    "    4711.0, 37.592467, 127.016516)\n",
    "\n",
    "# 결과 확인\n",
    "# 모든 역사명 맞추기\n",
    "station_result[\"역사명\"] = station_result[\"역사명\"].replace({\n",
    "    \"성신여대입구\": \"성신여대입구(돈암)\",\n",
    "    \"돈암\": \"성신여대입구(돈암)\"})\n",
    "station_result[station_result['역사명'] == \"성신여대입구(돈암)\"]"
   ]
  },
  {
   "cell_type": "code",
   "execution_count": null,
   "metadata": {},
   "outputs": [],
   "source": [
    "# 경원선\n",
    "print(len(station_result[(station_result['노선명'] == '경원선') & (\n",
    "    station_result['역번호_x'].isnull())]))\n",
    "station_one = station_result[(station_result['노선명'] == '경원선') & (\n",
    "    station_result['역번호_x'].isnull())]\n",
    "\n",
    "station_one = station_one.replace({'경원선': '경의중앙선'})\n",
    "\n",
    "station_one"
   ]
  },
  {
   "cell_type": "code",
   "execution_count": null,
   "metadata": {},
   "outputs": [],
   "source": [
    "# 중앙선\n",
    "print(len(station_result[(station_result['노선명'] == '중앙선') & (\n",
    "    station_result['역번호_x'].isnull())]))\n",
    "station_cau = station_result[(station_result['노선명'] == '중앙선') & (\n",
    "    station_result['역번호_x'].isnull() | station_result['역번호_y'].isnull())]\n",
    "\n",
    "station_cau = station_cau.replace({'중앙선': '경의중앙선'})\n",
    "\n",
    "station_cau"
   ]
  },
  {
   "cell_type": "code",
   "execution_count": null,
   "metadata": {},
   "outputs": [],
   "source": [
    "# 경의중앙선\n",
    "print(len(station_result[(station_result['노선명'] == '경의중앙선') & (\n",
    "    station_result['역번호_y'].isnull())]))\n",
    "station_gyeong = station_result[(station_result['노선명'] == '경의중앙선') & (\n",
    "    station_result['역번호_x'].isnull() | station_result['역번호_y'].isnull())]\n",
    "\n",
    "# y 컬럼 제거\n",
    "station_gyeong = station_gyeong.drop(columns=['역번호_y', '위도_y', '경도_y'])\n",
    "\n",
    "# 역이름 변경\n",
    "station_gyeong = station_gyeong.replace({\n",
    "    '청량리': '청량리(서울시립대입구)',\n",
    "    '왕십리': '왕십리(성동구청)',\n",
    "    '이촌': '이촌(국립중앙박물관)',\n",
    "    '상봉': '상봉(시외버스터미널)'\n",
    "})\n",
    "\n",
    "station_result = station_result.replace({\n",
    "    '청량리': '청량리(서울시립대입구)',\n",
    "    '왕십리': '왕십리(성동구청)',\n",
    "    '이촌': '이촌(국립중앙박물관)',\n",
    "    '상봉': '상봉(시외버스터미널)'\n",
    "})\n",
    "\n",
    "station_gyeong"
   ]
  },
  {
   "cell_type": "code",
   "execution_count": null,
   "metadata": {},
   "outputs": [],
   "source": [
    "# 경원선 + 중앙선 = 경의중앙선 으로 합치기\n",
    "station_temp = pd.concat([station_one, station_cau], axis = 0)\n",
    "\n",
    "# x 컬럼 제거\n",
    "station_temp = station_temp.drop(columns=['역번호_x', '노선번호', '환승역구분', '환승노선번호', '환승노선명', '주소', '위도_x', '경도_x'])\n",
    "\n",
    "# merge\n",
    "station_temp = pd.merge(station_gyeong, station_temp, on=['역사명', '노선명'], how='outer')\n",
    "\n",
    "station_temp"
   ]
  },
  {
   "cell_type": "code",
   "execution_count": null,
   "metadata": {},
   "outputs": [],
   "source": [
    "# 기존 데이터에 추가, 기존에 있던 애들은 삭제\n",
    "station_result.drop(index=station_one.index, inplace=True)\n",
    "station_result.drop(index=station_cau.index, inplace=True)\n",
    "station_result.drop(index=station_gyeong.index, inplace=True)\n",
    "station_result = pd.concat([station_result, station_temp])\n",
    "\n",
    "station_result = station_result.reset_index(drop=True)\n",
    "station_result"
   ]
  },
  {
   "attachments": {},
   "cell_type": "markdown",
   "metadata": {},
   "source": [
    "##### 3-b. 노선명을 지하철 호선명으로 통일, 중복값 확인"
   ]
  },
  {
   "cell_type": "code",
   "execution_count": null,
   "metadata": {},
   "outputs": [],
   "source": [
    "# 노선명 종류 확인\n",
    "station_cnt_by_route = station_result['노선명'].value_counts().sort_index()\n",
    "station_cnt_by_route"
   ]
  },
  {
   "cell_type": "code",
   "execution_count": null,
   "metadata": {},
   "outputs": [],
   "source": [
    "# 경부선, 경원선, 경인선 = 1호선\n",
    "# 분당선 + 수인선 = 수인분당선\n",
    "# 일산선 = 3호선\n",
    "# 진접선 = 4호선\n",
    "\n",
    "station_result[\"노선명\"] = station_result[\"노선명\"].replace({\n",
    "    \"경부선\": \"1호선\",\n",
    "    \"경원선\": \"1호선\",\n",
    "    \"경인선\": \"1호선\",\n",
    "    \"분당선\": \"수인분당선\",\n",
    "    \"수인선\": \"수인분당선\",\n",
    "    \"일산선\": \"3호선\",\n",
    "    \"안산과천선\": \"4호선\", \n",
    "    \"진접선\": \"4호선\"\n",
    "})\n",
    "\n",
    "station_result[\"노선명\"] = station_result[\"노선명\"].replace({\n",
    "    \"수인수인분당선\": \"수인분당선\"\n",
    "})\n",
    "\n",
    "# 노선명 종류 재확인\n",
    "station_cnt_by_route = station_result['노선명'].value_counts().sort_index()\n",
    "station_cnt_by_route"
   ]
  },
  {
   "cell_type": "code",
   "execution_count": null,
   "metadata": {},
   "outputs": [],
   "source": [
    "# 노선별 중복 확인\n",
    "station_result[station_result.duplicated(['노선명', '역사명'])]"
   ]
  },
  {
   "cell_type": "code",
   "execution_count": null,
   "metadata": {},
   "outputs": [],
   "source": [
    "# 7호선 데이터 확인\n",
    "station_result.iloc[57:75]\n",
    "\n",
    "# 역번호_y, 위도, 경도 정보가 서로 달라 잘못 저장됨\n",
    "# 확인 결과, 2로 시작하는 쪽의 역번호가 틀림 (짝수 index 행들)"
   ]
  },
  {
   "cell_type": "code",
   "execution_count": null,
   "metadata": {},
   "outputs": [],
   "source": [
    "# 5호선 데이터 확인\n",
    "station_result.iloc[329:333]\n",
    "\n",
    "# 역번호, 위도, 경도 정보가 달라 잘못 저장됨\n",
    "# 확인 결과, 9로 시작하는 쪽의 역번호가 틀림 (홀수 index 행들)"
   ]
  },
  {
   "cell_type": "code",
   "execution_count": null,
   "metadata": {},
   "outputs": [],
   "source": [
    "# 경의중앙선 데이터 확인\n",
    "station_result[(station_result[\"역사명\"] == \"공덕\") |\n",
    "               (station_result[\"역사명\"] == \"홍대입구\") | (station_result[\"역사명\"] == \"디지털미디어시티\")]\n",
    "\n",
    "# 확인 결과, 어차피 경중선 역코드는 필요 없음... 1-8호선이 아니므로 \n",
    "# 그냥 같은 쪽으로 일치시키는 방향으로 변화시키기 "
   ]
  },
  {
   "cell_type": "code",
   "execution_count": null,
   "metadata": {},
   "outputs": [],
   "source": [
    "# 3호선 데이터 확인\n",
    "station_result[(station_result[\"역사명\"] == \"지축\")]\n",
    "\n",
    "# 확인 결과, 위쪽이 맞음 "
   ]
  },
  {
   "cell_type": "code",
   "execution_count": null,
   "metadata": {},
   "outputs": [],
   "source": [
    "station_result.drop([58, 60, 62, 64, 66, 68, 70, 72, 74, 329, 331, 562, 565, 567, 714], inplace=True)\n",
    "\n",
    "# 재확인\n",
    "station_result[station_result.duplicated(['노선명', '역사명'])]"
   ]
  },
  {
   "attachments": {},
   "cell_type": "markdown",
   "metadata": {},
   "source": [
    "##### 3-c. 위경도값 하나로 합치기"
   ]
  },
  {
   "cell_type": "code",
   "execution_count": null,
   "metadata": {},
   "outputs": [],
   "source": [
    "# x, y에 대해, 둘 중 한 곳에 없는 위경도값이 각각 몇 개인지 count\n",
    "lat_in_only_x = station_result[station_result[\"위도_y\"].isnull(\n",
    ") & station_result[\"위도_x\"].notnull()]\n",
    "lng_in_only_x = station_result[station_result[\"경도_y\"].isnull(\n",
    ") & station_result[\"경도_x\"].notnull()]\n",
    "\n",
    "lat_in_only_x_cnt = len(lat_in_only_x)\n",
    "lng_in_only_x_cnt = len(lng_in_only_x)\n",
    "\n",
    "print(\"x에만 있는 위경도값 개수 :\", lat_in_only_x_cnt, lng_in_only_x_cnt)\n",
    "\n",
    "lat_in_only_y = station_result[station_result[\"위도_x\"].isnull(\n",
    ") & station_result[\"위도_y\"].notnull()]\n",
    "lng_in_only_y = station_result[station_result[\"경도_x\"].isnull(\n",
    ") & station_result[\"경도_y\"].notnull()]\n",
    "\n",
    "lat_in_only_y_cnt = len(lat_in_only_y)\n",
    "lng_in_only_y_cnt = len(lng_in_only_y)\n",
    "\n",
    "print(\"y에만 있는 위경도값 개수 :\", lat_in_only_y_cnt, lng_in_only_y_cnt)\n",
    "\n",
    "# 한쪽 위경도가 NaN이면, 반대쪽 위경도 넣어주기\n",
    "station_result[\"위도_x\"] = station_result[\"위도_x\"].fillna(station_result[\"위도_y\"])\n",
    "station_result[\"위도_y\"] = station_result[\"위도_y\"].fillna(station_result[\"위도_x\"])\n",
    "station_result[\"경도_x\"] = station_result[\"경도_x\"].fillna(station_result[\"경도_y\"])\n",
    "station_result[\"경도_y\"] = station_result[\"경도_y\"].fillna(station_result[\"경도_x\"])\n",
    "\n",
    "# 위경도 데이터의 오차 계산\n",
    "station_result[\"위도차\"] = (station_result[\"위도_x\"] - station_result[\"위도_y\"]).abs()\n",
    "station_result[\"경도차\"] = (station_result[\"경도_x\"] - station_result[\"경도_y\"]).abs()"
   ]
  },
  {
   "cell_type": "code",
   "execution_count": null,
   "metadata": {},
   "outputs": [],
   "source": [
    "# 위도 오차값 확인\n",
    "lat_diff_mean = station_result[\"위도차\"].mean()\n",
    "print(lat_diff_mean)\n",
    "\n",
    "# 평균보다 오차 큰 행 확인\n",
    "bigger_lat_diff = station_result[station_result[\"위도차\"] >= lat_diff_mean]\n",
    "bigger_lat_diff"
   ]
  },
  {
   "cell_type": "code",
   "execution_count": null,
   "metadata": {},
   "outputs": [],
   "source": [
    "# 경도 오차값 확인\n",
    "lng_diff_mean = station_result[\"경도차\"].mean()\n",
    "print(lng_diff_mean)\n",
    "\n",
    "# 평균보다 오차 큰 행 확인\n",
    "bigger_lng_diff = station_result[station_result[\"경도차\"] >= lng_diff_mean]\n",
    "bigger_lng_diff"
   ]
  },
  {
   "cell_type": "code",
   "execution_count": null,
   "metadata": {},
   "outputs": [],
   "source": [
    "# 119 ~ 134 위도_x와 경도_x가 뒤바뀌어 들어감\n",
    "# 송도, (위도_x, 경도_x) 전남 해남에 위치\n",
    "# 남동구청, (위도_x, 경도_x) 황해에 위치\n",
    "# 양원, (위도_x, 경도_x) 양원역 위치가 경북 봉화군에 위치한 양원역 위치로 잘못 들어가져 있음\n",
    "# -> 위경도 데이터의 경우, x를 y로 덮어쓰면 될 것 같음\n",
    "# 이를 증명하기 위해, 위의 데이터들의 위도차/경도차가 해결된 뒤,\n",
    "# 위경도차가 높은 행들을 각각 확인하여, 거리상의 오차가 어느 정도일지 확인해볼 것\n",
    "\n",
    "station_result.loc[[119, 120, 121, 122, 123, 124, 125, 126,\n",
    "                    127, 128, 129, 130, 131, 132, 133, 134, 688, 54, 758], ['위도차', '경도차']] = 0.0"
   ]
  },
  {
   "cell_type": "code",
   "execution_count": null,
   "metadata": {},
   "outputs": [],
   "source": [
    "# 위도 오차값 평균 재확인\n",
    "lat_diff_mean = station_result[\"위도차\"].mean()\n",
    "print(lat_diff_mean)\n",
    "\n",
    "# 평균보다 오차 큰 행 확인\n",
    "bigger_lat_diff = station_result[station_result[\"위도차\"] >= lat_diff_mean]\n",
    "bigger_lat_diff.sort_values('위도차').tail()"
   ]
  },
  {
   "cell_type": "code",
   "execution_count": null,
   "metadata": {},
   "outputs": [],
   "source": [
    "# 경도 오차값 평균 재확인\n",
    "lng_diff_mean = station_result[\"경도차\"].mean()\n",
    "print(lng_diff_mean)\n",
    "\n",
    "# 평균보다 오차 큰 행 확인\n",
    "bigger_lng_diff = station_result[station_result[\"경도차\"] >= lng_diff_mean]\n",
    "bigger_lng_diff.sort_values('경도차').tail()"
   ]
  },
  {
   "attachments": {},
   "cell_type": "markdown",
   "metadata": {},
   "source": [
    "##### 3-b. 위경도 결측값 재확인"
   ]
  },
  {
   "cell_type": "code",
   "execution_count": null,
   "metadata": {},
   "outputs": [],
   "source": [
    "# 구리, (위도_x, 경도_x) 구로 들어가 있음\n",
    "# 화전, (위도_x, 경도_x) 덕양구청에 위치, 도보 1시간 30분의 오차\n",
    "# 그 다음으로 오차가 큰 인천공항2터미널과 서울역의 경우 역이 워낙 커서 생기는 일, 문제 없음\n",
    "# 즉, x와 y 두 곳에 있는 값들에 대해서는 이상값 검토가 끝남 \n",
    "# 둘 다에 있는 값의 경우 그냥 y쪽 값으로 덮어쓰기\n",
    "# 둘 중 한 곳에만 있는 위경도값들은 위에서 따로 저장해 둠, \n",
    "# 이후 지도를 보며 재검토할 예정  \n",
    "\n",
    "# y에 없는 값들 x에서 가져와 채우기\n",
    "station_result['위도_y'] = station_result['위도_y'].fillna(station_result['위도_x'])\n",
    "station_result['경도_y'] = station_result['경도_y'].fillna(station_result['경도_x'])\n",
    "\n",
    "# 개수 재확인\n",
    "null_lat_in_y = station_result[station_result[\"위도_y\"].isnull()]\n",
    "null_lng_in_y = station_result[station_result[\"경도_y\"].isnull()]\n",
    "null_lat_in_y_cnt = len(null_lat_in_y)\n",
    "null_lng_in_y_cnt = len(null_lng_in_y)\n",
    "\n",
    "print(\"y에 있는 위경도 결측값 개수 :\", null_lat_in_y_cnt, null_lng_in_y_cnt)\n",
    "\n",
    "null_lat_in_y "
   ]
  },
  {
   "cell_type": "code",
   "execution_count": null,
   "metadata": {},
   "outputs": [],
   "source": [
    "# 위도_x, 경도_x 삭제 및 위도_y와 경도_y의 이름 변경\n",
    "station_result.drop(columns=[\"위도_x\", \"경도_x\", \"위도차\", \"경도차\"], inplace=True)\n",
    "station_result.rename(columns={'위도_y': '위도', '경도_y': '경도'}, inplace=True)\n",
    "\n",
    "station_result"
   ]
  },
  {
   "attachments": {},
   "cell_type": "markdown",
   "metadata": {},
   "source": [
    "### 4. 지도에 시각화"
   ]
  },
  {
   "attachments": {},
   "cell_type": "markdown",
   "metadata": {},
   "source": [
    "##### 4-a. 이상값 확인"
   ]
  },
  {
   "cell_type": "code",
   "execution_count": null,
   "metadata": {},
   "outputs": [],
   "source": [
    "# 지도 시각화 \n",
    "geo_station = station_result.copy()\n",
    "\n",
    "# 중심 설정\n",
    "fmap = folium.Map(location=[geo_station['위도'].mean(\n",
    "), geo_station['경도'].mean()], zoom_start=0, width=750, height=500)\n",
    "\n",
    "for n in geo_station.index:\n",
    "    # 팝업에 들어갈 텍스트를 지정\n",
    "    popup_name = str(geo_station.loc[n, '위도']) + \", \" + str(geo_station.loc[n, '경도']) + \\\n",
    "        \" \\n\" + geo_station.loc[n, '역사명'] + ' - ' + geo_station.loc[n, '노선명']\n",
    "    \n",
    "    folium.Marker(\n",
    "        location=[geo_station.loc[n, '위도'], geo_station.loc[n, '경도']],\n",
    "        popup=popup_name, \n",
    "        tooltip=popup_name\n",
    "    ).add_to(fmap)\n",
    "\n",
    "fmap"
   ]
  },
  {
   "cell_type": "code",
   "execution_count": null,
   "metadata": {},
   "outputs": [],
   "source": [
    "# 위경도가 한국을 벗어난 역들 찾아보기\n",
    "station_outof_korea = station_result[(station_result['위도'] < 33.10000000) |\n",
    "                                     (station_result['위도'] > 38.45000000) | (station_result['경도'] < 124.19583333) |\n",
    "                                     (station_result['경도'] > 131.87222222)]\n",
    "\n",
    "station_outof_korea\n",
    "\n",
    "# 확인 결과, 모든 역이 제대로 한국 내에 존재함"
   ]
  },
  {
   "cell_type": "code",
   "execution_count": null,
   "metadata": {},
   "outputs": [],
   "source": [
    "# 더 크게 지도 시각화 \n",
    "geo_station = station_result.copy()\n",
    "\n",
    "# 중심 설정\n",
    "fmap = folium.Map(location=[geo_station['위도'].mean(\n",
    "), geo_station['경도'].mean()], zoom_start=8, width=750, height=500)\n",
    "\n",
    "for n in geo_station.index:\n",
    "    # 팝업에 들어갈 텍스트를 지정\n",
    "    popup_name = str(geo_station.loc[n, '위도']) + \", \" + str(geo_station.loc[n, '경도']\n",
    "                                                            ) + \" \\n\" + geo_station.loc[n, '역사명'] + ' - ' + geo_station.loc[n, '노선명']\n",
    "\n",
    "    folium.Marker(\n",
    "        location=[geo_station.loc[n, '위도'], geo_station.loc[n, '경도']],\n",
    "        popup=popup_name,\n",
    "        tooltip=popup_name\n",
    "    ).add_to(fmap)\n",
    "\n",
    "fmap"
   ]
  },
  {
   "attachments": {},
   "cell_type": "markdown",
   "metadata": {},
   "source": [
    "### 5. 역번호, 노선번호, 역이름, 노선명 맞추기"
   ]
  },
  {
   "attachments": {},
   "cell_type": "markdown",
   "metadata": {},
   "source": [
    "##### 5-a. 서울시 지하철 실시간 도착정보에 쓰이는 역 및 노선 종류 확인"
   ]
  },
  {
   "cell_type": "code",
   "execution_count": null,
   "metadata": {},
   "outputs": [],
   "source": [
    "# 데이터 읽어오기\n",
    "station_num_name_seoul = pd.read_csv('train_station_num_name_seoul.csv')\n",
    "\n",
    "# 컬럼명 변경\n",
    "station_num_name_seoul.columns=[\"역번호\", \"역사명\", \"노선명\", \"외부코드\"]\n",
    "\n",
    "station_num_name_seoul"
   ]
  },
  {
   "cell_type": "code",
   "execution_count": null,
   "metadata": {},
   "outputs": [],
   "source": [
    "# 결측값 존재 확인\n",
    "station_num_name_seoul.info()\n",
    "\n",
    "# 확인 결과, 외부코드를 제외한 모든 값이 잘 들어있음 "
   ]
  },
  {
   "cell_type": "code",
   "execution_count": null,
   "metadata": {},
   "outputs": [],
   "source": [
    "# 해당 데이터에 포함된 노선명 확인 및 둘 중 한 데이터셋에만 있는 노선명 확인\n",
    "route_name_result = set(station_result['노선명'])\n",
    "route_name_seoul = set(station_num_name_seoul[\"노선명\"])\n",
    "sub_route_name_result = route_name_result - route_name_seoul\n",
    "sub_route_name_seoul = route_name_seoul - route_name_result\n",
    "\n",
    "print(route_name_result)\n",
    "print(route_name_seoul)\n",
    "\n",
    "print(sub_route_name_result)\n",
    "print(sub_route_name_seoul)\n",
    "\n",
    "# 확인 결과, 공항철도, 경춘선 이름을 맞출 필요 있음\n",
    "# 수인분당선, 경의선의 경우 다른, 다른 모든 API 확인한 뒤 통합할지 쪼갤지 고민 필요"
   ]
  },
  {
   "cell_type": "code",
   "execution_count": null,
   "metadata": {},
   "outputs": [],
   "source": [
    "# 일단 맞출 수 있는 부분은 통일\n",
    "station_num_name_seoul[\"노선명\"] = station_num_name_seoul[\"노선명\"].replace({\n",
    "    \"우이신설경전철\": \"우이신설선\",\n",
    "    \"의정부경전철\": \"의정부선\",\n",
    "    \"용인경전철\": \"에버라인선\",\n",
    "    \"김포도시철도\": \"김포골드라인\",\n",
    "    \"인천선\": \"인천1호선\",\n",
    "    \"공항철도\": \"공항철도선\"\n",
    "})\n",
    "station_num_name_seoul[\"노선명\"] = station_num_name_seoul[\"노선명\"].str.replace(\n",
    "    pat=r'^0', repl=r'', regex=True)\n",
    "\n",
    "# 둘 중 한 데이터셋에만 있는 노선명 재확인\n",
    "route_name_result = set(station_result['노선명'])\n",
    "route_name_seoul = set(station_num_name_seoul[\"노선명\"])\n",
    "sub_route_name_result = route_name_result - route_name_seoul\n",
    "sub_route_name_seoul = route_name_seoul - route_name_result\n",
    "\n",
    "print(route_name_result)\n",
    "print(route_name_seoul)\n",
    "\n",
    "print(sub_route_name_result)\n",
    "print(sub_route_name_seoul)"
   ]
  },
  {
   "cell_type": "code",
   "execution_count": null,
   "metadata": {},
   "outputs": [],
   "source": [
    "# 역사명 맞추기\n",
    "station_name_result = set(station_result['역사명'])\n",
    "station_name_seoul = set(station_num_name_seoul['역사명'])\n",
    "sub_station_name_result = station_name_result - station_name_seoul\n",
    "sub_station_name_seoul = station_name_seoul - station_name_result\n",
    "\n",
    "print(station_name_result)\n",
    "print(station_name_seoul)\n",
    "\n",
    "print(sub_station_name_result)\n",
    "print(sub_station_name_seoul)"
   ]
  },
  {
   "cell_type": "code",
   "execution_count": null,
   "metadata": {},
   "outputs": [],
   "source": [
    "# 수동으로 이름 맞추기\n",
    "station_num_name_seoul[\"역사명\"] = station_num_name_seoul[\"역사명\"].replace({\n",
    "    \"이촌\": \"이촌(국립중앙박물관)\", \n",
    "    \"4?19민주묘지\": \"4.19민주묘지\",\n",
    "    \"청량리\": \"청량리(서울시립대입구)\",\n",
    "    \"양재\": \"양재(서초구청)\",\n",
    "    \"경복궁\": \"경복궁(정부서울청사)\",\n",
    "    \"동대문역사문화공원\": \"동대문역사문화공원(DDP)\",\n",
    "    \"구의\": \"구의(광진구청)\",\n",
    "    \"굽은다리\": \"굽은다리(강동구민회관앞)\",\n",
    "    \"월드컵경기장\": \"월드컵경기장(성산)\",\n",
    "    \"화랑대\": \"화랑대(서울여대입구)\",\n",
    "    \"군자\": \"군자(능동)\",\n",
    "    \"총신대입구\": \"총신대입구(이수)\",\n",
    "    \"이수\": \"총신대입구(이수)\",\n",
    "    \"시민공원\": \"시민공원(문화창작지대)\",\n",
    "    \"운연\": \"운연(서창)\",\n",
    "    \"남부터미널\": \"남부터미널(예술의전당)\",\n",
    "    \"광교\": \"광교(경기대)\",\n",
    "    \"회현\": \"회현(남대문시장)\",\n",
    "    \"하남시청\": \"하남시청(덕풍.신장)\",\n",
    "    \"새절\": \"새절(신사)\",\n",
    "    \"증산\": \"증산(명지대앞)\",\n",
    "    \"상월곡\": \"상월곡(한국과학기술연구원)\",\n",
    "    \"녹사평\": \"녹사평(용산구청)\",\n",
    "    \"석남\": \"석남(거북시장)\",\n",
    "    \"수유\": \"수유(강북구청)\",\n",
    "    \"양재시민의숲\": \"양재시민의숲(매헌)\",\n",
    "    \"교대\": \"교대(법원.검찰청)\",\n",
    "    \"삼성\": \"삼성(무역센터)\",\n",
    "    \"아시아드경기장\": \"아시아드경기장(공촌사거리)\",\n",
    "    \"봉화산\": \"봉화산(서울의료원)\",\n",
    "    \"성신여대입구\": \"성신여대입구(돈암)\",\n",
    "    \"종로3가\": \"종로3가(탑골공원)\",\n",
    "    \"동작\": \"동작(현충원)\",\n",
    "    \"오목교\": \"오목교(목동운동장앞)\",\n",
    "    \"기흥\": \"기흥(백남준아트센터)\",\n",
    "    \"남한산성입구\": \"남한산성입구(성남법원.검찰청)\",\n",
    "    \"용마산\": \"용마산(용마폭포공원)\",\n",
    "    \"광나루\": \"광나루(장신대)\",\n",
    "    \"낙성대\": \"낙성대(강감찬)\",\n",
    "    \"숭실대입구\": \"숭실대입구(살피재)\",\n",
    "    \"숙대입구\": \"숙대입구(갈월)\",\n",
    "    \"충정로\": \"충정로(경기대입구)\",\n",
    "    \"가정\": \"가정(루원시티)\",\n",
    "    \"검단오류\": \"검단오류(검단산업단지)\",\n",
    "    \"대흥\": \"대흥(서강대앞)\",\n",
    "    \"온수\": \"온수(성공회대입구)\",\n",
    "    \"왕십리\": \"왕십리(성동구청)\",\n",
    "    \"천호\": \"천호(풍납토성)\",\n",
    "    \"잠실\": \"잠실(송파구청)\",\n",
    "    \"강변\": \"강변(동서울터미널)\",\n",
    "    \"광흥창\": \"광흥창(서강)\",\n",
    "    \"고려대\": \"고려대(종암)\",\n",
    "    \"흑석\": \"흑석(중앙대입구)\",\n",
    "    \"관악산\": \"관악산(서울대)\",\n",
    "    \"미아\": \"미아(서울사이버대학)\",\n",
    "    \"공릉\": \"공릉(서울과학기술대)\",\n",
    "    \"사우\": \"사우(김포시청)\",\n",
    "    \"상봉\": \"상봉(시외버스터미널)\",\n",
    "    \"용두\": \"용두(동대문구청)\",\n",
    "    \"운동장.송담대\": \"운동장.송담대(중앙시장)\",\n",
    "    \"광교중앙\": \"광교중앙(아주대)\",\n",
    "    \"동백\": \"동백(용인세브란스)\",\n",
    "    \"아차산\": \"아차산(어린이대공원후문)\",\n",
    "    \"신정\": \"신정(은행정)\",\n",
    "    \"대림\": \"대림(구로구청)\",\n",
    "    \"월곡\": \"월곡(동덕여대)\",\n",
    "    \"한성대입구\": \"한성대입구(삼선교)\",\n",
    "    \"올림픽공원\": \"올림픽공원(한국체대)\",\n",
    "    \"신창\": \"신창(순천향대)\",\n",
    "    \"쌍용\": \"쌍용(나사렛대)\",\n",
    "    \"광화문\": \"광화문(세종문화회관)\",\n",
    "    \"안암\": \"안암(고대병원앞)\",\n",
    "    \"몽촌토성\": \"몽촌토성(평화의문)\",\n",
    "    \"서울대입구\": \"서울대입구(관악구청)\",\n",
    "    \"어린이대공원\": \"어린이대공원(세종대)\"\n",
    "})\n",
    "\n",
    "# 역사명 재확인\n",
    "# station_name_result = set(station_result['역사명'])\n",
    "station_name_seoul = set(station_num_name_seoul['역사명'])\n",
    "sub_station_name_result = station_name_result - station_name_seoul\n",
    "sub_station_name_seoul = station_name_seoul - station_name_result\n",
    "\n",
    "print(station_name_result)\n",
    "print(station_name_seoul)\n",
    "\n",
    "print(sub_station_name_result)\n",
    "print(sub_station_name_seoul)"
   ]
  },
  {
   "cell_type": "code",
   "execution_count": null,
   "metadata": {},
   "outputs": [],
   "source": [
    "station_result[(station_result[\"역사명\"] == \"운천\") |\n",
    "               (station_result[\"역사명\"] == \"지제\") | (station_result[\"역사명\"] == \"평택지제\")]\n",
    "\n",
    "# 지제 -> 평택지제 이름 변경\n",
    "station_result[\"역사명\"] = station_result[\"역사명\"].replace({\n",
    "    \"지제\": \"평택지제\"\n",
    "})\n",
    "\n",
    "station_result[(station_result[\"역사명\"] == \"운천\") |\n",
    "               (station_result[\"역사명\"] == \"지제\") | (station_result[\"역사명\"] == \"평택지제\")]"
   ]
  },
  {
   "cell_type": "code",
   "execution_count": null,
   "metadata": {},
   "outputs": [],
   "source": [
    "station_num_name_seoul[(station_num_name_seoul[\"역사명\"] == \"운천\") |\n",
    "                       (station_num_name_seoul[\"역사명\"] == \"지제\") | (station_num_name_seoul[\"역사명\"] == \"평택지제\")]\n",
    "\n",
    "# 수동으로 운천 역번호 추가\n",
    "station_num_name_seoul.loc[767] = ['1286', '운천', '경의선', np.NaN]\n",
    "\n",
    "station_num_name_seoul[(station_num_name_seoul[\"역사명\"] == \"운천\") |\n",
    "                       (station_num_name_seoul[\"역사명\"] == \"지제\") | (station_num_name_seoul[\"역사명\"] == \"평택지제\")]"
   ]
  },
  {
   "cell_type": "code",
   "execution_count": null,
   "metadata": {},
   "outputs": [],
   "source": [
    "# 두 값 합치기\n",
    "station_temp = pd.merge(station_result, station_num_name_seoul, on=['역사명', '노선명'], how='left')\n",
    "station_temp = station_temp.astype({'역번호_y': 'str'})\n",
    "\n",
    "station_temp = station_temp.reset_index(drop=True)\n",
    "station_temp"
   ]
  },
  {
   "cell_type": "code",
   "execution_count": null,
   "metadata": {},
   "outputs": [],
   "source": [
    "# 역번호_y 데이터형식 맞추기\n",
    "station_temp = station_temp.astype({'역번호_y': 'str'})\n",
    "station_temp['역번호_y'] = station_temp['역번호_y'].str.replace(\n",
    "    pat=r'.0$', repl=r'', regex=True)\n",
    "\n",
    "station_temp "
   ]
  },
  {
   "cell_type": "code",
   "execution_count": null,
   "metadata": {},
   "outputs": [],
   "source": [
    "# 역번호_y != 역번호인 노선 몇 개 있는지 각각 확인해보기\n",
    "null_station_cnt_by_route = station_temp['노선명'][station_temp['역번호'] != station_temp['역번호_y']].value_counts().sort_index()\n",
    "null_station_cnt_by_route"
   ]
  },
  {
   "cell_type": "code",
   "execution_count": null,
   "metadata": {},
   "outputs": [],
   "source": [
    "# 1호선\n",
    "station_temp[(station_temp['노선명'] == '1호선') & (station_temp['역번호'] != station_temp['역번호_y'])]\n",
    "\n",
    "# 확인 결과, 역번호가 맞음"
   ]
  },
  {
   "cell_type": "code",
   "execution_count": null,
   "metadata": {},
   "outputs": [],
   "source": [
    "# 5호선\n",
    "station_temp[(station_temp['노선명'] == '5호선') & (\n",
    "    station_temp['역번호'] != station_temp['역번호_y'])]\n",
    "\n",
    "# 확인 결과, 역번호가 맞음 "
   ]
  },
  {
   "cell_type": "code",
   "execution_count": null,
   "metadata": {},
   "outputs": [],
   "source": [
    "# 경의중앙\n",
    "station_temp[(station_temp['노선명'] == '경의중앙선') & (station_temp['역번호'] != station_temp['역번호_y'])]\n",
    "\n",
    "# 경중선은 아차피 역번호로 시간표 찾기 제공하지 않음"
   ]
  },
  {
   "cell_type": "code",
   "execution_count": null,
   "metadata": {},
   "outputs": [],
   "source": [
    "# 경춘선\n",
    "station_temp[(station_temp['노선명'] == '경춘선') & (station_temp['역번호'] != station_temp['역번호_y'])]\n",
    "\n",
    "# 경춘선은 아차피 역번호로 시간표 찾기 제공하지 않음"
   ]
  },
  {
   "cell_type": "code",
   "execution_count": null,
   "metadata": {},
   "outputs": [],
   "source": [
    "# 서해선\n",
    "station_temp[(station_temp['노선명'] == '서해선') & (station_temp['역번호'] != station_temp['역번호_y'])]\n",
    "\n",
    "# 서해선은 어차피 역번호로 시간표 제공하지 않음"
   ]
  },
  {
   "cell_type": "code",
   "execution_count": null,
   "metadata": {},
   "outputs": [],
   "source": [
    "# 수인분당선\n",
    "station_temp[(station_temp['노선명'] == '수인분당선') & (\n",
    "    station_temp['역번호'] != station_temp['역번호_y'])]\n",
    "\n",
    "# 수인분당선도 어차피 제공하지 않음"
   ]
  },
  {
   "cell_type": "code",
   "execution_count": null,
   "metadata": {},
   "outputs": [],
   "source": [
    "# 역번호_y == 역번호 == NaN인 역 확인 <- X\n",
    "station_temp[(station_temp['역번호'].isnull()) & (station_temp['역번호_y'].isnull())]\n",
    "\n",
    "# 역번호 == NaN인 역 확인 <- 경의중앙선 \n",
    "station_temp[(station_temp['역번호'].isnull())]\n",
    "\n",
    "# 즉, 그냥 역번호_y 대신 역번호 사용하면 됨 \n",
    "station_result = station_temp\n",
    "station_result.drop(columns=[\"역번호_x\", \"역번호_y\"], inplace=True)\n",
    "\n",
    "station_result"
   ]
  },
  {
   "cell_type": "code",
   "execution_count": null,
   "metadata": {},
   "outputs": [],
   "source": [
    "# 역번호 수정\n",
    "station_result[\"역번호\"][station_result[\"역번호\"].str.len() < 4] = \"0\" + station_result[\"역번호\"][station_result[\"역번호\"].str.len() < 4]\n",
    "\n",
    "# 확인 결과, 제대로 해결\n",
    "station_result[station_result[\"역번호\"].str.len() < 4]"
   ]
  },
  {
   "attachments": {},
   "cell_type": "markdown",
   "metadata": {},
   "source": [
    "### 6. 실제 노선도와 비교"
   ]
  },
  {
   "cell_type": "code",
   "execution_count": null,
   "metadata": {},
   "outputs": [],
   "source": [
    "# 역이 노선별로 몇 개인지 확인\n",
    "total_station_cnt_by_route = station_result[\"노선명\"].value_counts(\n",
    ").sort_index()\n",
    "total_station_cnt_by_route"
   ]
  },
  {
   "cell_type": "code",
   "execution_count": null,
   "metadata": {},
   "outputs": [],
   "source": [
    "# 1호선 - 모두 존재\n",
    "print(list(station_result[\"역사명\"][station_result[\"노선명\"] == \"1호선\"]))"
   ]
  },
  {
   "cell_type": "code",
   "execution_count": null,
   "metadata": {},
   "outputs": [],
   "source": [
    "# 2호선\n",
    "print(list(station_result[\"역사명\"][station_result[\"노선명\"] == \"2호선\"]))\n",
    "\n",
    "# 2호선 까치산 없음, 추가 필요\n",
    "station_result[station_result[\"역사명\"] == \"까치산\"]"
   ]
  },
  {
   "cell_type": "code",
   "execution_count": null,
   "metadata": {},
   "outputs": [],
   "source": [
    "# 역번호 찾아오기 = 0200\n",
    "station_num_name_seoul[station_num_name_seoul[\"역사명\"] == \"까치산\"]\n",
    "\n",
    "# 정보 수동 입력해서 추가해주기\n",
    "station_result.loc[766] = [\"까치산\", np.NaN, \"2호선\", np.NaN,\n",
    "                           np.NaN, np.NaN, \"서울특별시 강서구 강서로 54\", 37.531394, 126.846987, \"0200\", np.NaN]\n",
    "\n",
    "# 재확인\n",
    "station_result[station_result[\"역사명\"] == \"까치산\"]"
   ]
  },
  {
   "cell_type": "code",
   "execution_count": null,
   "metadata": {},
   "outputs": [],
   "source": [
    "# 3호선 - 모두 존재\n",
    "print(list(station_result[\"역사명\"][station_result[\"노선명\"] == \"3호선\"]))"
   ]
  },
  {
   "cell_type": "code",
   "execution_count": null,
   "metadata": {},
   "outputs": [],
   "source": [
    "# 4호선 - 모두 존재\n",
    "print(list(station_result[\"역사명\"][station_result[\"노선명\"] == \"4호선\"]))"
   ]
  },
  {
   "cell_type": "code",
   "execution_count": null,
   "metadata": {},
   "outputs": [],
   "source": [
    "# 5호선 - 모두 존재\n",
    "print(list(station_result[\"역사명\"][station_result[\"노선명\"] == \"5호선\"]))"
   ]
  },
  {
   "cell_type": "code",
   "execution_count": null,
   "metadata": {},
   "outputs": [],
   "source": [
    "# 6호선 - 모두 존재\n",
    "print(list(station_result[\"역사명\"][station_result[\"노선명\"] == \"6호선\"]))"
   ]
  },
  {
   "cell_type": "code",
   "execution_count": null,
   "metadata": {},
   "outputs": [],
   "source": [
    "# 7호선 - 모두 존재\n",
    "print(list(station_result[\"역사명\"][station_result[\"노선명\"] == \"7호선\"]))"
   ]
  },
  {
   "cell_type": "code",
   "execution_count": null,
   "metadata": {},
   "outputs": [],
   "source": [
    "# 8호선 - 모두 존재\n",
    "print(list(station_result[\"역사명\"][station_result[\"노선명\"] == \"8호선\"]))"
   ]
  },
  {
   "cell_type": "code",
   "execution_count": null,
   "metadata": {},
   "outputs": [],
   "source": [
    "# 9호선 - 모두 존재\n",
    "print(list(station_result[\"역사명\"][station_result[\"노선명\"] == \"9호선\"]))"
   ]
  },
  {
   "cell_type": "code",
   "execution_count": null,
   "metadata": {},
   "outputs": [],
   "source": [
    "# 경강선 - 모두 존재 \n",
    "print(list(station_result[\"역사명\"][station_result[\"노선명\"] == \"경강선\"]))"
   ]
  },
  {
   "cell_type": "code",
   "execution_count": null,
   "metadata": {},
   "outputs": [],
   "source": [
    "# 경의중앙선 \n",
    "print(list(station_result[\"역사명\"][station_result[\"노선명\"] == \"경의중앙선\"]))\n",
    "\n",
    "# 도라산 빠짐, 추가 필요\n",
    "station_result[station_result[\"역사명\"] == \"도라산\"]"
   ]
  },
  {
   "cell_type": "code",
   "execution_count": null,
   "metadata": {},
   "outputs": [],
   "source": [
    "# 역번호 없음 (어차피 필요 없음)\n",
    "station_num_name_seoul[station_num_name_seoul[\"역사명\"] == \"도라산\"]\n",
    "\n",
    "# 정보 수동 입력해서 추가해주기\n",
    "station_result.loc[767] = [\"도라산\", np.NaN, \"경의중앙선\", np.NaN,\n",
    "                           np.NaN, np.NaN, \"경기도 파주시 장단면 희망로 307\", 37.898307, 126.709193, np.NaN, np.NaN]\n",
    "\n",
    "# 재확인\n",
    "station_result[station_result[\"역사명\"] == \"도라산\"]"
   ]
  },
  {
   "cell_type": "code",
   "execution_count": null,
   "metadata": {},
   "outputs": [],
   "source": [
    "# 경춘선 \n",
    "print(list(station_result[\"역사명\"][station_result[\"노선명\"] == \"경춘선\"]))\n",
    "\n",
    "# 광운대 빠짐, 추가 필요\n",
    "station_result[station_result[\"역사명\"] == \"광운대\"]"
   ]
  },
  {
   "cell_type": "code",
   "execution_count": null,
   "metadata": {},
   "outputs": [],
   "source": [
    "# 역번호 1305\n",
    "station_num_name_seoul[station_num_name_seoul[\"역사명\"] == \"광운대\"]\n",
    "\n",
    "# 정보 수동 입력해서 추가해주기\n",
    "station_result.loc[768] = [\"광운대\", np.NaN, \"경춘선\", np.NaN,\n",
    "                           np.NaN, np.NaN, \"서울특별시 노원구 석계로 98-2\", 37.623986, 127.061956, \"1305\", np.NaN]\n",
    "\n",
    "# 재확인\n",
    "station_result[station_result[\"역사명\"] == \"광운대\"]"
   ]
  },
  {
   "cell_type": "code",
   "execution_count": null,
   "metadata": {},
   "outputs": [],
   "source": [
    "# 공항철도선 - 모두 존재\n",
    "print(list(station_result[\"역사명\"][station_result[\"노선명\"] == \"공항철도선\"]))"
   ]
  },
  {
   "cell_type": "code",
   "execution_count": null,
   "metadata": {},
   "outputs": [],
   "source": [
    "# 김포골드라인 - 모두 존재\n",
    "print(list(station_result[\"역사명\"][station_result[\"노선명\"] == \"김포골드라인\"]))"
   ]
  },
  {
   "cell_type": "code",
   "execution_count": null,
   "metadata": {},
   "outputs": [],
   "source": [
    "# 서해선 - 모두 존재 \n",
    "print(list(station_result[\"역사명\"][station_result[\"노선명\"] == \"서해선\"]))"
   ]
  },
  {
   "cell_type": "code",
   "execution_count": null,
   "metadata": {},
   "outputs": [],
   "source": [
    "# 수인분당선 - 모두 존재\n",
    "print(list(station_result[\"역사명\"][station_result[\"노선명\"] == \"수인분당선\"]))"
   ]
  },
  {
   "cell_type": "code",
   "execution_count": null,
   "metadata": {},
   "outputs": [],
   "source": [
    "# 신림선 - 모두 존재 \n",
    "print(list(station_result[\"역사명\"][station_result[\"노선명\"] == \"신림선\"]))"
   ]
  },
  {
   "cell_type": "code",
   "execution_count": null,
   "metadata": {},
   "outputs": [],
   "source": [
    "# 신분당선 - 모두 존재\n",
    "print(list(station_result[\"역사명\"][station_result[\"노선명\"] == \"신분당선\"]))"
   ]
  },
  {
   "cell_type": "code",
   "execution_count": null,
   "metadata": {},
   "outputs": [],
   "source": [
    "# 에버라인선 - 모두 존재\n",
    "print(list(station_result[\"역사명\"][station_result[\"노선명\"] == \"에버라인선\"]))"
   ]
  },
  {
   "cell_type": "code",
   "execution_count": null,
   "metadata": {},
   "outputs": [],
   "source": [
    "# 우이신설선 - 모두 존재\n",
    "print(list(station_result[\"역사명\"][station_result[\"노선명\"] == \"우이신설선\"]))"
   ]
  },
  {
   "cell_type": "code",
   "execution_count": null,
   "metadata": {},
   "outputs": [],
   "source": [
    "# 의정부선 - 모두 존재\n",
    "print(list(station_result[\"역사명\"][station_result[\"노선명\"] == \"의정부선\"]))"
   ]
  },
  {
   "cell_type": "code",
   "execution_count": null,
   "metadata": {},
   "outputs": [],
   "source": [
    "# 인천1호선 - 모두 존재\n",
    "print(list(station_result[\"역사명\"][station_result[\"노선명\"] == \"인천1호선\"]))"
   ]
  },
  {
   "cell_type": "code",
   "execution_count": null,
   "metadata": {},
   "outputs": [],
   "source": [
    "# 인천2호선 - 모두 존재\n",
    "print(list(station_result[\"역사명\"][station_result[\"노선명\"] == \"인천2호선\"]))"
   ]
  },
  {
   "attachments": {},
   "cell_type": "markdown",
   "metadata": {},
   "source": [
    "### 7. 서울 근교역 추리기"
   ]
  },
  {
   "attachments": {},
   "cell_type": "markdown",
   "metadata": {},
   "source": [
    "##### 7-a. 주소 결측값 확인"
   ]
  },
  {
   "cell_type": "code",
   "execution_count": null,
   "metadata": {},
   "outputs": [],
   "source": [
    "null_address_station_cnt_by_route = station_result['노선명'][station_result['주소'].isnull(\n",
    ")].value_counts().sort_index()\n",
    "\n",
    "null_address_station_cnt_by_route"
   ]
  },
  {
   "cell_type": "code",
   "execution_count": null,
   "metadata": {},
   "outputs": [],
   "source": [
    "station_result[station_result['주소'].isnull()]"
   ]
  },
  {
   "cell_type": "code",
   "execution_count": null,
   "metadata": {},
   "outputs": [],
   "source": [
    "# 수동으로 추가\n",
    "station_result.iloc[722, 6] = '서울특별시 강동구 둔촌동 8-1'\n",
    "station_result.iloc[723, 6] = '서울특별시 강동구 둔촌동 227-7'\n",
    "station_result.iloc[724, 6] = '서울특별시 송파구 방이동 89-28'\n",
    "station_result.iloc[725, 6] = '서울특별시 송파구 방이동 88-17'\n",
    "station_result.iloc[726, 6] = '서울특별시 송파구 방이동 2'\n",
    "station_result.iloc[727, 6] = '서울특별시 송파구 석촌동 209'\n",
    "station_result.iloc[728, 6] = '서울특별시 송파구 삼전동 157-1'\n",
    "station_result.iloc[729, 6] = '서울특별시 송파구 잠실동 347'\n",
    "station_result.iloc[730, 6] = '서울특별시 송파구 잠실동 123'\n",
    "station_result.iloc[731, 6] = '서울특별시 강남구 삼성동 172'\n",
    "station_result.iloc[732, 6] = '서울특별시 강남구 삼성동 111-147'\n",
    "station_result.iloc[733, 6] = '서울특별시 강남구 삼성동 111-114'\n",
    "station_result.iloc[734, 6] = '서울특별시 강남구 논현동 279-165'\n",
    "station_result.iloc[735, 6] = '경기도 군포시 군포로 750'\n",
    "\n",
    "# 확인 결과, 주소 결측값 없음\n",
    "station_result[station_result['주소'].isnull()]"
   ]
  },
  {
   "attachments": {},
   "cell_type": "markdown",
   "metadata": {},
   "source": [
    "### 8. 필요 없는 컬럼 제거 "
   ]
  },
  {
   "cell_type": "code",
   "execution_count": null,
   "metadata": {},
   "outputs": [],
   "source": [
    "station_result.drop(columns=[\"노선번호\", \"환승역구분\", \"환승노선번호\", \"환승노선명\"], inplace=True)\n",
    "station_result"
   ]
  },
  {
   "attachments": {},
   "cell_type": "markdown",
   "metadata": {},
   "source": [
    "### 9. 파일 생성"
   ]
  },
  {
   "cell_type": "code",
   "execution_count": null,
   "metadata": {},
   "outputs": [],
   "source": [
    "station_result.to_csv(\"result_train_station.csv\")"
   ]
  },
  {
   "attachments": {},
   "cell_type": "markdown",
   "metadata": {},
   "source": [
    "### 10. 역번호 맞추기 (odsay API)"
   ]
  },
  {
   "cell_type": "code",
   "execution_count": 2,
   "metadata": {},
   "outputs": [
    {
     "data": {
      "text/html": [
       "<div>\n",
       "<style scoped>\n",
       "    .dataframe tbody tr th:only-of-type {\n",
       "        vertical-align: middle;\n",
       "    }\n",
       "\n",
       "    .dataframe tbody tr th {\n",
       "        vertical-align: top;\n",
       "    }\n",
       "\n",
       "    .dataframe thead th {\n",
       "        text-align: right;\n",
       "    }\n",
       "</style>\n",
       "<table border=\"1\" class=\"dataframe\">\n",
       "  <thead>\n",
       "    <tr style=\"text-align: right;\">\n",
       "      <th></th>\n",
       "      <th>역사명</th>\n",
       "      <th>노선명</th>\n",
       "      <th>주소</th>\n",
       "      <th>위도</th>\n",
       "      <th>경도</th>\n",
       "      <th>역번호</th>\n",
       "      <th>외부코드</th>\n",
       "    </tr>\n",
       "  </thead>\n",
       "  <tbody>\n",
       "    <tr>\n",
       "      <th>0</th>\n",
       "      <td>까치울</td>\n",
       "      <td>7호선</td>\n",
       "      <td>경기도 부천시 원미구 길주로 지하 626 (춘의동)</td>\n",
       "      <td>37.506130</td>\n",
       "      <td>126.810930</td>\n",
       "      <td>3753</td>\n",
       "      <td>751</td>\n",
       "    </tr>\n",
       "    <tr>\n",
       "      <th>1</th>\n",
       "      <td>부천종합운동장</td>\n",
       "      <td>7호선</td>\n",
       "      <td>경기도 부천시 원미구 길주로 지하 502 (춘의동)</td>\n",
       "      <td>37.505020</td>\n",
       "      <td>126.796610</td>\n",
       "      <td>3754</td>\n",
       "      <td>752</td>\n",
       "    </tr>\n",
       "    <tr>\n",
       "      <th>2</th>\n",
       "      <td>춘의</td>\n",
       "      <td>7호선</td>\n",
       "      <td>경기도 부천시 원미구 길주로 지하 406 (춘의동)</td>\n",
       "      <td>37.503650</td>\n",
       "      <td>126.788280</td>\n",
       "      <td>3755</td>\n",
       "      <td>753</td>\n",
       "    </tr>\n",
       "    <tr>\n",
       "      <th>3</th>\n",
       "      <td>신중동</td>\n",
       "      <td>7호선</td>\n",
       "      <td>경기도 부천시 원미구 길주로 지하 314 (중동)</td>\n",
       "      <td>37.502820</td>\n",
       "      <td>126.775660</td>\n",
       "      <td>3756</td>\n",
       "      <td>754</td>\n",
       "    </tr>\n",
       "    <tr>\n",
       "      <th>4</th>\n",
       "      <td>부천시청</td>\n",
       "      <td>7호선</td>\n",
       "      <td>경기도 부천시 원미구 길주로 지하 202 (중동)</td>\n",
       "      <td>37.504440</td>\n",
       "      <td>126.763640</td>\n",
       "      <td>3757</td>\n",
       "      <td>755</td>\n",
       "    </tr>\n",
       "    <tr>\n",
       "      <th>...</th>\n",
       "      <td>...</td>\n",
       "      <td>...</td>\n",
       "      <td>...</td>\n",
       "      <td>...</td>\n",
       "      <td>...</td>\n",
       "      <td>...</td>\n",
       "      <td>...</td>\n",
       "    </tr>\n",
       "    <tr>\n",
       "      <th>644</th>\n",
       "      <td>옥수</td>\n",
       "      <td>경의중앙선</td>\n",
       "      <td>서울시 성동구 동호로 지하21(옥수동)</td>\n",
       "      <td>37.540446</td>\n",
       "      <td>127.018672</td>\n",
       "      <td>NaN</td>\n",
       "      <td>NaN</td>\n",
       "    </tr>\n",
       "    <tr>\n",
       "      <th>645</th>\n",
       "      <td>응봉</td>\n",
       "      <td>경의중앙선</td>\n",
       "      <td>서울시 성동구 고산자로 123(응봉동)</td>\n",
       "      <td>37.549946</td>\n",
       "      <td>127.034538</td>\n",
       "      <td>NaN</td>\n",
       "      <td>NaN</td>\n",
       "    </tr>\n",
       "    <tr>\n",
       "      <th>646</th>\n",
       "      <td>까치산</td>\n",
       "      <td>2호선</td>\n",
       "      <td>서울특별시 강서구 강서로 54</td>\n",
       "      <td>37.531394</td>\n",
       "      <td>126.846987</td>\n",
       "      <td>0200</td>\n",
       "      <td>NaN</td>\n",
       "    </tr>\n",
       "    <tr>\n",
       "      <th>647</th>\n",
       "      <td>도라산</td>\n",
       "      <td>경의중앙선</td>\n",
       "      <td>경기도 파주시 장단면 희망로 307</td>\n",
       "      <td>37.898307</td>\n",
       "      <td>126.709193</td>\n",
       "      <td>NaN</td>\n",
       "      <td>NaN</td>\n",
       "    </tr>\n",
       "    <tr>\n",
       "      <th>648</th>\n",
       "      <td>광운대</td>\n",
       "      <td>경춘선</td>\n",
       "      <td>서울특별시 노원구 석계로 98-2</td>\n",
       "      <td>37.623986</td>\n",
       "      <td>127.061956</td>\n",
       "      <td>1305</td>\n",
       "      <td>NaN</td>\n",
       "    </tr>\n",
       "  </tbody>\n",
       "</table>\n",
       "<p>649 rows × 7 columns</p>\n",
       "</div>"
      ],
      "text/plain": [
       "         역사명    노선명                            주소         위도          경도  \\\n",
       "0        까치울    7호선  경기도 부천시 원미구 길주로 지하 626 (춘의동)  37.506130  126.810930   \n",
       "1    부천종합운동장    7호선  경기도 부천시 원미구 길주로 지하 502 (춘의동)  37.505020  126.796610   \n",
       "2         춘의    7호선  경기도 부천시 원미구 길주로 지하 406 (춘의동)  37.503650  126.788280   \n",
       "3        신중동    7호선   경기도 부천시 원미구 길주로 지하 314 (중동)  37.502820  126.775660   \n",
       "4       부천시청    7호선   경기도 부천시 원미구 길주로 지하 202 (중동)  37.504440  126.763640   \n",
       "..       ...    ...                           ...        ...         ...   \n",
       "644       옥수  경의중앙선         서울시 성동구 동호로 지하21(옥수동)  37.540446  127.018672   \n",
       "645       응봉  경의중앙선         서울시 성동구 고산자로 123(응봉동)  37.549946  127.034538   \n",
       "646      까치산    2호선              서울특별시 강서구 강서로 54  37.531394  126.846987   \n",
       "647      도라산  경의중앙선           경기도 파주시 장단면 희망로 307  37.898307  126.709193   \n",
       "648      광운대    경춘선            서울특별시 노원구 석계로 98-2  37.623986  127.061956   \n",
       "\n",
       "      역번호 외부코드  \n",
       "0    3753  751  \n",
       "1    3754  752  \n",
       "2    3755  753  \n",
       "3    3756  754  \n",
       "4    3757  755  \n",
       "..    ...  ...  \n",
       "644   NaN  NaN  \n",
       "645   NaN  NaN  \n",
       "646  0200  NaN  \n",
       "647   NaN  NaN  \n",
       "648  1305  NaN  \n",
       "\n",
       "[649 rows x 7 columns]"
      ]
     },
     "execution_count": 2,
     "metadata": {},
     "output_type": "execute_result"
    }
   ],
   "source": [
    "# 역 파일에서 이름 가져와서 검색\n",
    "stations = pd.read_csv(\"result_train_station.csv\")\n",
    "stations"
   ]
  },
  {
   "cell_type": "code",
   "execution_count": 3,
   "metadata": {},
   "outputs": [],
   "source": [
    "# key 가져오기\n",
    "from dotenv import load_dotenv\n",
    "import os\n",
    "\n",
    "load_dotenv()\n",
    "\n",
    "odsay_url = os.environ.get('odsay_searchstation_url')\n",
    "seoul_url = os.environ.get('train_seoul_now_url')"
   ]
  },
  {
   "cell_type": "code",
   "execution_count": 9,
   "metadata": {},
   "outputs": [],
   "source": [
    "def mkStationNumFromAPI(stations) :\n",
    "    err = list()\n",
    "    result = pd.DataFrame([], columns=[\"노선명\", \"역사명\", \"역코드\"])\n",
    "    \n",
    "    cnt = 0\n",
    "    for i in range(len(stations)) :\n",
    "        station = stations[\"역사명\"].loc[i]\n",
    "        \n",
    "        ind = station.find(\"(\")\n",
    "        if ind != 1:\n",
    "            # ( 뒤쪽 자르기\n",
    "            station = station[:ind]\n",
    "        \n",
    "        response = urllib.request.urlopen(odsay_url.format(0, urllib.parse.quote(\n",
    "            station, encoding='utf-8'), 2))\n",
    "        json_str = response.read().decode(\"utf-8\")\n",
    "        json_obj = json.loads(json_str)\n",
    "        \n",
    "        # print(json_obj)\n",
    "        if json_obj['result']['totalCount'] == 0:\n",
    "            # 역 검색 실패, 문제 있는 case\n",
    "            err.append((station, stations[\"노선명\"].loc[i]))\n",
    "        else:\n",
    "            for j in range(json_obj['result']['totalCount']):\n",
    "                nowObj = json_obj['result']['station'][j]\n",
    "                result.loc[cnt] = [nowObj['laneName'], nowObj['stationName'], nowObj['stationID']]\n",
    "                \n",
    "                cnt += 1\n",
    "                \n",
    "    print(err)\n",
    "    return result"
   ]
  },
  {
   "cell_type": "code",
   "execution_count": 10,
   "metadata": {},
   "outputs": [
    {
     "name": "stdout",
     "output_type": "stream",
     "text": [
      "[('도라', '경의중앙선')]\n"
     ]
    }
   ],
   "source": [
    "stations_odsay = mkStationNumFromAPI(stations)"
   ]
  },
  {
   "cell_type": "code",
   "execution_count": 11,
   "metadata": {},
   "outputs": [
    {
     "data": {
      "text/html": [
       "<div>\n",
       "<style scoped>\n",
       "    .dataframe tbody tr th:only-of-type {\n",
       "        vertical-align: middle;\n",
       "    }\n",
       "\n",
       "    .dataframe tbody tr th {\n",
       "        vertical-align: top;\n",
       "    }\n",
       "\n",
       "    .dataframe thead th {\n",
       "        text-align: right;\n",
       "    }\n",
       "</style>\n",
       "<table border=\"1\" class=\"dataframe\">\n",
       "  <thead>\n",
       "    <tr style=\"text-align: right;\">\n",
       "      <th></th>\n",
       "      <th>노선명</th>\n",
       "      <th>역사명</th>\n",
       "      <th>역코드</th>\n",
       "    </tr>\n",
       "  </thead>\n",
       "  <tbody>\n",
       "    <tr>\n",
       "      <th>0</th>\n",
       "      <td>수도권 2호선</td>\n",
       "      <td>까치산</td>\n",
       "      <td>264</td>\n",
       "    </tr>\n",
       "    <tr>\n",
       "      <th>1</th>\n",
       "      <td>수도권 5호선</td>\n",
       "      <td>까치산</td>\n",
       "      <td>518</td>\n",
       "    </tr>\n",
       "    <tr>\n",
       "      <th>2</th>\n",
       "      <td>수도권 7호선</td>\n",
       "      <td>까치울</td>\n",
       "      <td>751</td>\n",
       "    </tr>\n",
       "    <tr>\n",
       "      <th>3</th>\n",
       "      <td>수도권 7호선</td>\n",
       "      <td>부천종합운동장</td>\n",
       "      <td>752</td>\n",
       "    </tr>\n",
       "    <tr>\n",
       "      <th>4</th>\n",
       "      <td>수도권 7호선</td>\n",
       "      <td>춘의</td>\n",
       "      <td>753</td>\n",
       "    </tr>\n",
       "    <tr>\n",
       "      <th>...</th>\n",
       "      <td>...</td>\n",
       "      <td>...</td>\n",
       "      <td>...</td>\n",
       "    </tr>\n",
       "    <tr>\n",
       "      <th>4349</th>\n",
       "      <td>수도권 2호선</td>\n",
       "      <td>까치산</td>\n",
       "      <td>264</td>\n",
       "    </tr>\n",
       "    <tr>\n",
       "      <th>4350</th>\n",
       "      <td>수도권 5호선</td>\n",
       "      <td>까치산</td>\n",
       "      <td>518</td>\n",
       "    </tr>\n",
       "    <tr>\n",
       "      <th>4351</th>\n",
       "      <td>수도권 7호선</td>\n",
       "      <td>까치울</td>\n",
       "      <td>751</td>\n",
       "    </tr>\n",
       "    <tr>\n",
       "      <th>4352</th>\n",
       "      <td>수도권 1호선</td>\n",
       "      <td>광운대</td>\n",
       "      <td>120</td>\n",
       "    </tr>\n",
       "    <tr>\n",
       "      <th>4353</th>\n",
       "      <td>수도권 경춘선</td>\n",
       "      <td>광운대</td>\n",
       "      <td>1809</td>\n",
       "    </tr>\n",
       "  </tbody>\n",
       "</table>\n",
       "<p>4354 rows × 3 columns</p>\n",
       "</div>"
      ],
      "text/plain": [
       "          노선명      역사명   역코드\n",
       "0     수도권 2호선      까치산   264\n",
       "1     수도권 5호선      까치산   518\n",
       "2     수도권 7호선      까치울   751\n",
       "3     수도권 7호선  부천종합운동장   752\n",
       "4     수도권 7호선       춘의   753\n",
       "...       ...      ...   ...\n",
       "4349  수도권 2호선      까치산   264\n",
       "4350  수도권 5호선      까치산   518\n",
       "4351  수도권 7호선      까치울   751\n",
       "4352  수도권 1호선      광운대   120\n",
       "4353  수도권 경춘선      광운대  1809\n",
       "\n",
       "[4354 rows x 3 columns]"
      ]
     },
     "execution_count": 11,
     "metadata": {},
     "output_type": "execute_result"
    }
   ],
   "source": [
    "stations_odsay"
   ]
  },
  {
   "cell_type": "code",
   "execution_count": 12,
   "metadata": {},
   "outputs": [
    {
     "name": "stdout",
     "output_type": "stream",
     "text": [
      "{'부산 4호선', '수도권 2호선', '수도권 공항철도', '대구 3호선', '대구 2호선', '수도권 서해선(소사-원시)', '부산 1호선', '수도권 8호선', '광주 1호선', '수도권 경춘선', '수도권 신분당선', '경의중앙선', '부산 3호선', '수도권 에버라인', '대전 1호선', '신림선', '수도권 1호선', '수도권 5호선', '수도권 3호선', '인천 1호선', '수도권 의정부경전철', '수도권 7호선', '부산-김해경전철', '김포골드라인', '수도권 4호선', '수인.분당선', '부산 2호선', '대구 1호선', '수도권 6호선', '인천 2호선', '수도권 9호선', '우이신설경전철', '수도권 경강선', '동해선'}\n"
     ]
    }
   ],
   "source": [
    "print(set(stations_odsay[\"노선명\"]))"
   ]
  },
  {
   "cell_type": "code",
   "execution_count": 14,
   "metadata": {},
   "outputs": [
    {
     "name": "stdout",
     "output_type": "stream",
     "text": [
      "{'수도권 2호선', '수도권 공항철도', '수도권 6호선', '수도권 4호선', '수도권 8호선', '신림선', '수도권 경춘선', '수도권 5호선', '수도권 신분당선', '수도권 1호선', '수도권 9호선', '수인.분당선', '우이신설경전철', '수도권 7호선', '수도권 3호선', '경의중앙선'}\n"
     ]
    }
   ],
   "source": [
    "stations_odsay = stations_odsay[stations_odsay[\"노선명\"].str.slice(\n",
    "    start=0, stop=2) != \"부산\"]\n",
    "stations_odsay = stations_odsay[stations_odsay[\"노선명\"].str.slice(\n",
    "    start=0, stop=2) != \"대구\"]\n",
    "stations_odsay = stations_odsay[stations_odsay[\"노선명\"].str.slice(\n",
    "    start=0, stop=2) != \"광주\"]\n",
    "stations_odsay = stations_odsay[stations_odsay[\"노선명\"].str.slice(\n",
    "    start=0, stop=2) != \"인천\"]\n",
    "stations_odsay = stations_odsay[stations_odsay[\"노선명\"].str.slice(\n",
    "    start=0, stop=2) != \"대전\"]\n",
    "stations_odsay = stations_odsay[stations_odsay[\"노선명\"] != \"수도권 서해선(소사-원시)\"]\n",
    "stations_odsay = stations_odsay[stations_odsay[\"노선명\"] != \"수도권 에버라인\"]\n",
    "stations_odsay = stations_odsay[stations_odsay[\"노선명\"] != \"김포골드라인\"]\n",
    "stations_odsay = stations_odsay[stations_odsay[\"노선명\"] != \"동해선\"]\n",
    "stations_odsay = stations_odsay[stations_odsay[\"노선명\"] != \"수도권 의정부경전철\"]\n",
    "stations_odsay = stations_odsay[stations_odsay[\"노선명\"] != \"수도권 경강선\"]\n",
    "\n",
    "print(set(stations_odsay[\"노선명\"]))"
   ]
  },
  {
   "cell_type": "code",
   "execution_count": 16,
   "metadata": {},
   "outputs": [
    {
     "data": {
      "text/html": [
       "<div>\n",
       "<style scoped>\n",
       "    .dataframe tbody tr th:only-of-type {\n",
       "        vertical-align: middle;\n",
       "    }\n",
       "\n",
       "    .dataframe tbody tr th {\n",
       "        vertical-align: top;\n",
       "    }\n",
       "\n",
       "    .dataframe thead th {\n",
       "        text-align: right;\n",
       "    }\n",
       "</style>\n",
       "<table border=\"1\" class=\"dataframe\">\n",
       "  <thead>\n",
       "    <tr style=\"text-align: right;\">\n",
       "      <th></th>\n",
       "      <th>노선명</th>\n",
       "      <th>역사명</th>\n",
       "      <th>역코드</th>\n",
       "    </tr>\n",
       "  </thead>\n",
       "  <tbody>\n",
       "    <tr>\n",
       "      <th>0</th>\n",
       "      <td>수도권 2호선</td>\n",
       "      <td>까치산</td>\n",
       "      <td>264</td>\n",
       "    </tr>\n",
       "    <tr>\n",
       "      <th>1</th>\n",
       "      <td>수도권 5호선</td>\n",
       "      <td>까치산</td>\n",
       "      <td>518</td>\n",
       "    </tr>\n",
       "    <tr>\n",
       "      <th>2</th>\n",
       "      <td>수도권 7호선</td>\n",
       "      <td>까치울</td>\n",
       "      <td>751</td>\n",
       "    </tr>\n",
       "    <tr>\n",
       "      <th>3</th>\n",
       "      <td>수도권 7호선</td>\n",
       "      <td>부천종합운동장</td>\n",
       "      <td>752</td>\n",
       "    </tr>\n",
       "    <tr>\n",
       "      <th>4</th>\n",
       "      <td>수도권 7호선</td>\n",
       "      <td>춘의</td>\n",
       "      <td>753</td>\n",
       "    </tr>\n",
       "    <tr>\n",
       "      <th>...</th>\n",
       "      <td>...</td>\n",
       "      <td>...</td>\n",
       "      <td>...</td>\n",
       "    </tr>\n",
       "    <tr>\n",
       "      <th>3897</th>\n",
       "      <td>경의중앙선</td>\n",
       "      <td>원덕</td>\n",
       "      <td>1301</td>\n",
       "    </tr>\n",
       "    <tr>\n",
       "      <th>3901</th>\n",
       "      <td>수도권 3호선</td>\n",
       "      <td>원흥</td>\n",
       "      <td>370</td>\n",
       "    </tr>\n",
       "    <tr>\n",
       "      <th>4033</th>\n",
       "      <td>수도권 9호선</td>\n",
       "      <td>언주</td>\n",
       "      <td>926</td>\n",
       "    </tr>\n",
       "    <tr>\n",
       "      <th>4180</th>\n",
       "      <td>경의중앙선</td>\n",
       "      <td>팔당</td>\n",
       "      <td>1308</td>\n",
       "    </tr>\n",
       "    <tr>\n",
       "      <th>4250</th>\n",
       "      <td>경의중앙선</td>\n",
       "      <td>국수</td>\n",
       "      <td>1304</td>\n",
       "    </tr>\n",
       "  </tbody>\n",
       "</table>\n",
       "<p>648 rows × 3 columns</p>\n",
       "</div>"
      ],
      "text/plain": [
       "          노선명      역사명   역코드\n",
       "0     수도권 2호선      까치산   264\n",
       "1     수도권 5호선      까치산   518\n",
       "2     수도권 7호선      까치울   751\n",
       "3     수도권 7호선  부천종합운동장   752\n",
       "4     수도권 7호선       춘의   753\n",
       "...       ...      ...   ...\n",
       "3897    경의중앙선       원덕  1301\n",
       "3901  수도권 3호선       원흥   370\n",
       "4033  수도권 9호선       언주   926\n",
       "4180    경의중앙선       팔당  1308\n",
       "4250    경의중앙선       국수  1304\n",
       "\n",
       "[648 rows x 3 columns]"
      ]
     },
     "execution_count": 16,
     "metadata": {},
     "output_type": "execute_result"
    }
   ],
   "source": [
    "stations_odsay = stations_odsay.drop_duplicates([\"노선명\", \"역사명\"])\n",
    "stations_odsay\n",
    "\n",
    "# 딱 필요한 개수만큼의 역코드 얻어냄"
   ]
  },
  {
   "cell_type": "code",
   "execution_count": 17,
   "metadata": {},
   "outputs": [],
   "source": [
    "stations_odsay.to_csv(\"odsay_station.csv\")"
   ]
  },
  {
   "attachments": {},
   "cell_type": "markdown",
   "metadata": {},
   "source": [
    "##### 10-b. station 파일과 맞추기"
   ]
  },
  {
   "cell_type": "code",
   "execution_count": 15,
   "metadata": {},
   "outputs": [],
   "source": [
    "# 역이름 맞추기\n",
    "station = pd.read_csv(\"result_train_station.csv\")\n",
    "odsay = pd.read_csv(\"odsay_station.csv\")"
   ]
  },
  {
   "cell_type": "code",
   "execution_count": 16,
   "metadata": {},
   "outputs": [
    {
     "data": {
      "text/plain": [
       "{'경의중앙선',\n",
       " '경춘선',\n",
       " '공항철도',\n",
       " '수도권 1호선',\n",
       " '수도권 2호선',\n",
       " '수도권 3호선',\n",
       " '수도권 4호선',\n",
       " '수도권 5호선',\n",
       " '수도권 6호선',\n",
       " '수도권 7호선',\n",
       " '수도권 8호선',\n",
       " '수도권 9호선',\n",
       " '수인분당선',\n",
       " '신림선',\n",
       " '신분당선',\n",
       " '우이신설선'}"
      ]
     },
     "execution_count": 16,
     "metadata": {},
     "output_type": "execute_result"
    }
   ],
   "source": [
    "odsay[\"노선명\"] = odsay[\"노선명\"].replace({\n",
    "    \"우이신설경전철\": \"우이신설선\",\n",
    "    \"수인.분당선\": \"수인분당선\",\n",
    "    \"수도권 신분당선\": \"신분당선\",\n",
    "    \"수도권 공항철도\": \"공항철도\",\n",
    "    \"수도권 경춘선\": \"경춘선\"\n",
    "})\n",
    "\n",
    "set(odsay[\"노선명\"])"
   ]
  },
  {
   "cell_type": "code",
   "execution_count": 30,
   "metadata": {},
   "outputs": [
    {
     "data": {
      "text/plain": [
       "{'경의중앙선',\n",
       " '경춘선',\n",
       " '공항철도',\n",
       " '수도권 1호선',\n",
       " '수도권 2호선',\n",
       " '수도권 3호선',\n",
       " '수도권 4호선',\n",
       " '수도권 5호선',\n",
       " '수도권 6호선',\n",
       " '수도권 7호선',\n",
       " '수도권 8호선',\n",
       " '수도권 9호선',\n",
       " '수인분당선',\n",
       " '신림선',\n",
       " '신분당선',\n",
       " '우이신설선'}"
      ]
     },
     "execution_count": 30,
     "metadata": {},
     "output_type": "execute_result"
    }
   ],
   "source": [
    "station[\"노선명\"] = station[\"노선명\"].replace({\n",
    "    \"1호선\": \"수도권 1호선\",\n",
    "    \"2호선\": \"수도권 2호선\",\n",
    "    \"3호선\": \"수도권 3호선\",\n",
    "    \"4호선\": \"수도권 4호선\",\n",
    "    \"5호선\": \"수도권 5호선\",\n",
    "    \"6호선\": \"수도권 6호선\",\n",
    "    \"7호선\": \"수도권 7호선\",\n",
    "    \"8호선\": \"수도권 8호선\",\n",
    "    \"9호선\": \"수도권 9호선\",\n",
    "    \"공항철도선\": \"공항철도\"\n",
    "})\n",
    "\n",
    "set(station[\"노선명\"])"
   ]
  },
  {
   "cell_type": "code",
   "execution_count": 17,
   "metadata": {},
   "outputs": [
    {
     "name": "stdout",
     "output_type": "stream",
     "text": [
      "{'도원', '올림픽공원', '도화', '신용산', '배방', '팔당', '오빈', '선바위', '까치울', '구반포', '도봉', '백마', '잠실', '임진강', '가산디지털단지', '광교중앙(아주대)', '공항시장', '북한산우이', '산곡', '하남시청(덕풍.신장)', '송탄', '광교(경기대)', '명동', '오리', '월롱', '선유도', '까치산', '신방화', '삼송', '경찰병원', '문산', '용답', '상봉', '당고개', '충무로', '신이문', '상일동', '숭실대입구', '무악재', '삼전', '노들', '문래', '서울대벤처타운', '쌍문', '둔촌동', '대야미', '제기동', '구산', '한강진', '구로', '중화', '산성', '마곡', '연수', '탕정', '풍산', '한남', '잠원', '검암', '사당', '창동', '혜화', '암사', '이촌', '야목', '지행', '용마산', '둔촌오륜', '죽전', '신창(순천향대)', '한양대', '야탑', '금정', '몽촌토성', '정왕', '녹양', '역삼', '원인재', '중랑', '망포', '관악', '언주', '구파발', '남춘천', '양재시민의숲', '철산', '고색', '서현', '정발산', '상월곡', '구로디지털단지', '의왕', '백운', '도심', '사리', '보산', '신정', '마두', '압구정로데오', '양천향교', '공항화물청사', '계양', '주엽', '부평구청', '상갈', '마들', '동두천중앙', '서울역', '아차산', '과천', '남태령', '한티', '수색', '거여', '남영', '신길', '고덕', '잠실나루', '신답', '경마공원', '시청', '부천', '강남', '학여울', '구성', '봉명', '수내', '화서', '화전', '독바위', '화계', '먹골', '동대문', '범계', '석계', '동대문역사문화공원', '마천', '단대오거리', '광화문', '보문', '천안', '장한평', '소요산', '신목동', '원덕', '양재', '안산', '오류동', '신갈', '애오개', '청라국제도시', '반월', '천왕', '청구', '화랑대', '월계', '덕계', '고잔', '춘의', '동작', '교대', '남동인더스파크', '종로3가', '동인천', '대성리', '구의', '정부과천청사', '솔샘', '화정', '군포', '남구로', '신당', '고속터미널', '가양', '개봉', '응암', '독립문', '상왕십리', '별내별가람', '수락산', '양천구청', '성균관대', '복정', '인천', '불광', '신도림', '건대입구', '운서', '하남검단산', '소사', '녹사평(용산구청)', '두정', '구일', '마석', '동천', '증미', '청량리', '여의나루', '잠실새내', '광나루', '대청', '대화', '광운대', '매교', '압구정', '직산', '인천공항1터미널', '새절', '송내', '을지로입구', '버티고개', '옥수', '북한산보국문', '구리', '신포', '평촌', '어린이대공원', '쌍용(나사렛대)', '남성', '석수', '을지로3가', '망우', '굴포천', '상동', '당곡', '중동', '등촌', '마포', '솔밭공원', '갈매', '관악산(서울대)', '퇴계원', '내방', '국수', '금천구청', '안양', '4.19민주묘지', '미금', '신설동', '학동', '아산', '평택지제', '산본', '매탄권선', '군자', '천마산', '보라매', '금릉', '신풍', '삼성', '대방', '강매', '한성대입구', '증산', '강변', '가천대', '강동', '오목교', '백석', '초지', '부개', '청평', '백양리', '금호', '소래포구', '서울대입구', '명학', '월곡', '원당', '성신여대입구', '서동탄', '회기', '별내', '어천', '신촌', '청담', '국회의사당', '노량진', '신내', '평택', '도림천', '우장산', '가능', '신흥', '답십리', '중곡', '디지털미디어시티', '신사', '야당', '부평', '영등포구청', '강동구청', '봉화산(서울의료원)', '안암', '서원', '호구포', '대치', '양수', '원흥', '삼각지', '개화산', '마장', '인덕원', '신원', '이수', '운천', '회현', '부천종합운동장', '총신대입구(이수)', '지축', '진접', '노원', '길음', '강일', '신대방삼거리', '정자', '동대입구', '영등포', '미아', '망원', '당산', '오산', '방학', '오이도', '길동', '왕십리', '월곶', '서대문', '대흥', '신금호', '경복궁', '석촌', '신중동', '광명사거리', '가평', '구룡', '운길산', '서울지방병무청', '상도', '남부터미널', '고려대', '녹천', '평내호평', '상천', '공덕', '하남풍산', '매봉', '일원', '중계', '동암', '미아사거리', '달월', '효창공원앞', '방배', '오목천', '장승배기', '샛강', '청명', '안국', '천호', '사릉', '가좌', '부천시청', '영통', '수지구청', '봉은사', '인하대', '약수', '숭의', '홍대입구', '도곡', '보정', '신대방', '망월사', '청계산입구', '도봉산', '삼산체육관', '가오리', '수원', '수유(강북구청)', '세류', '광명', '한성백제', '강촌', '면목', '태평', '상수', '석남(거북시장)', '대림', '마포구청', '월드컵경기장', '중앙', '뚝섬', '간석', '합정', '한대앞', '대공원', '세마', '충정로', '덕정', '삼양사거리', '외대앞', '성수', '굽은다리', '서울숲', '삼양', '진위', '방화', '성환', '봉천', '모란', '영등포시장', '김유정', '논현', '역곡', '사평', '굴봉산', '서빙고', '오금', '용문', '덕소', '서정리', '오남', '가락시장', '홍제', '목동', '의정부', '서초', '사가정', '공릉', '숙대입구', '송도', '인천논현', '양주', '상계', '남위례', '반포', '김포공항', '주안', '양원', '독산', '성복', '일산', '을지로4가', '광흥창', '신반포', '장지', '뚝섬유원지', '기흥', '종합운동장', '영종', '수리산', '명일', '상록수', '개화', '오산대', '이태원', '돌곶이', '회룡', '제물포', '신정네거리', '용두', '미사', '종각', '병점', '아현', '아신', '녹번', '대모산입구', '강남구청', '남한산성입구', '춘천', '송정', '동두천', '염창', '마곡나루', '양평', '문정', '운정', '탄현', '용산', '도농', '능곡', '선정릉', '이대', '송파나루', '양정', '정릉', '선릉', '연신내', '행당', '상현', '응봉', '화곡', '행신', '흑석', '종로5가', '신길온천', '중앙보훈병원', '발산', '대곡', '보라매병원', '삼성중앙', '파주', '온수', '석촌고분', '인천공항2터미널', '이매', '역촌', '수원시청', '개롱', '보라매공원', '개포동', '신논현', '당정', '태릉입구', '방이', '판교', '수서', '금곡', '금촌', '신림', '하계', '동묘앞', '여의도', '송파', '지평', '장암', '창신', '온양온천', '서강대', '수진', '낙성대', '곡산'}\n",
      "{'도원', '도화', '신용산', '배방', '팔당', '선바위', '오빈', '이촌(국립중앙박물관)', '까치울', '구반포', '도봉', '백마', '임진강', '가산디지털단지', '광교중앙(아주대)', '공항시장', '북한산우이', '산곡', '하남시청(덕풍.신장)', '송탄', '광교(경기대)', '명동', '오리', '월롱', '선유도', '구의(광진구청)', '까치산', '신방화', '경찰병원', '삼송', '문산', '용답', '당고개', '충무로', '신이문', '상일동', '무악재', '용두(동대문구청)', '노들', '삼전', '문래', '서울대벤처타운', '쌍문', '둔촌동', '제기동', '대야미', '구산', '한강진', '구로', '중화', '산성', '마곡', '연수', '탕정', '풍산', '한남', '잠원', '검암', '흑석(중앙대입구)', '사당', '창동', '혜화', '암사', '삼성(무역센터)', '야목', '지행', '둔촌오륜', '죽전', '낙성대(강감찬)', '신창(순천향대)', '한양대', '야탑', '금정', '상봉(시외버스터미널)', '정왕', '녹양', '역삼', '원인재', '중랑', '망포', '관악', '언주', '구파발', '남춘천', '광나루(장신대)', '안암(고대병원앞)', '철산', '고색', '서현', '정발산', '구로디지털단지', '의왕', '백운', '도심', '사리', '보산', '아차산(어린이대공원후문)', '고려대(종암)', '마두', '압구정로데오', '양천향교', '공항화물청사', '계양', '주엽', '부평구청', '상갈', '마들', '동두천중앙', '서울역', '과천', '남태령', '한티', '수색', '거여', '숭실대입구(살피재)', '남영', '신길', '고덕', '잠실나루', '신답', '경마공원', '시청', '부천', '강남', '학여울', '어린이대공원(세종대)', '구성', '봉명', '수내', '화서', '동작(현충원)', '독바위', '화전', '화계', '왕십리(성동구청)', '동대문', '먹골', '범계', '석계', '동대문역사문화공원(DDP)', '마천', '단대오거리', '보문', '천안', '장한평', '소요산', '신목동', '원덕', '안산', '오류동', '신갈', '애오개', '청라국제도시', '반월', '양재(서초구청)', '천왕', '청구', '월계', '잠실(송파구청)', '덕계', '고잔', '춘의', '남동인더스파크', '동인천', '대성리', '정부과천청사', '솔샘', '오목교(목동운동장앞)', '몽촌토성(평화의문)', '대림(구로구청)', '화정', '군포', '교대(법원.검찰청)', '남구로', '신당', '고속터미널', '가양', '개봉', '온수(성공회대입구)', '응암', '독립문', '상왕십리', '별내별가람', '수락산', '양천구청', '성균관대', '복정', '인천', '불광', '신도림', '강변(동서울터미널)', '건대입구', '운서', '하남검단산', '소사', '녹사평(용산구청)', '두정', '구일', '마석', '동천', '증미', '여의나루', '잠실새내', '대청', '대화', '광운대', '직산', '압구정', '매교', '인천공항1터미널', '송내', '을지로입구', '버티고개', '옥수', '북한산보국문', '구리', '신포', '평촌', '쌍용(나사렛대)', '남성', '석수', '을지로3가', '망우', '굴포천', '상동', '당곡', '등촌', '중동', '마포', '솔밭공원', '갈매', '관악산(서울대)', '퇴계원', '내방', '국수', '금천구청', '안양', '4.19민주묘지', '미금', '신설동', '학동', '아산', '성신여대입구(돈암)', '평택지제', '산본', '매탄권선', '천마산', '보라매', '금릉', '신풍', '대방', '강매', '가천대', '강동', '백석', '초지', '화랑대(서울여대입구)', '부개', '청평', '금호', '백양리', '소래포구', '명학', '원당', '남부터미널(예술의전당)', '서동탄', '회기', '별내', '어천', '신촌', '청담', '국회의사당', '노량진', '신내', '평택', '도림천', '우장산', '가능', '답십리', '중곡', '신흥', '디지털미디어시티', '신사', '숙대입구(갈월)', '야당', '부평', '영등포구청', '월곡(동덕여대)', '강동구청', '봉화산(서울의료원)', '서원', '호구포', '대치', '원흥', '양수', '삼각지', '개화산', '마장', '대흥(서강대앞)', '인덕원', '회현(남대문시장)', '서울대입구(관악구청)', '신원', '운천', '군자(능동)', '부천종합운동장', '총신대입구(이수)', '지축', '진접', '노원', '용마산(용마폭포공원)', '길음', '강일', '신대방삼거리', '정자', '동대입구', '광흥창(서강)', '영등포', '망원', '당산', '오산', '방학', '미아(서울사이버대학)', '길동', '오이도', '월곶', '서대문', '신금호', '석촌', '신중동', '광명사거리', '가평', '구룡', '운길산', '서울지방병무청', '상도', '녹천', '평내호평', '상천', '공덕', '하남풍산', '남한산성입구(성남법원.검찰청)', '매봉', '일원', '중계', '동암', '미아사거리', '달월', '효창공원앞', '방배', '오목천', '장승배기', '샛강', '청명', '안국', '사릉', '가좌', '부천시청', '영통', '수지구청', '인하대', '봉은사', '약수', '숭의', '홍대입구', '도곡', '보정', '신대방', '망월사', '청계산입구', '기흥(백남준아트센터)', '도봉산', '삼산체육관', '가오리', '수유(강북구청)', '수원', '세류', '광명', '한성백제', '새절(신사)', '강촌', '면목', '태평', '상수', '도라산', '석남(거북시장)', '증산(명지대앞)', '마포구청', '올림픽공원(한국체대)', '중앙', '뚝섬', '간석', '합정', '충정로(경기대입구)', '한대앞', '대공원', '세마', '덕정', '삼양사거리', '외대앞', '성수', '삼양', '방화', '진위', '서울숲', '신정(은행정)', '성환', '봉천', '모란', '영등포시장', '종로3가(탑골공원)', '김유정', '월드컵경기장(성산)', '논현', '역곡', '사평', '굴봉산', '서빙고', '오금', '덕소', '용문', '서정리', '오남', '가락시장', '홍제', '목동', '굽은다리(강동구민회관앞)', '의정부', '서초', '사가정', '송도', '인천논현', '남위례', '상계', '양주', '반포', '김포공항', '주안', '양원', '독산', '성복', '일산', '을지로4가', '장지', '신반포', '뚝섬유원지', '상월곡(한국과학기술연구원)', '종합운동장', '영종', '수리산', '명일', '상록수', '개화', '오산대', '이태원', '돌곶이', '양재시민의숲(매헌)', '회룡', '제물포', '신정네거리', '미사', '종각', '병점', '아현', '아신', '녹번', '대모산입구', '강남구청', '춘천', '송정', '동두천', '염창', '마곡나루', '양평', '경복궁(정부서울청사)', '문정', '운정', '탄현', '용산', '도농', '능곡', '선정릉', '이대', '송파나루', '양정', '정릉', '선릉', '연신내', '청량리(서울시립대입구)', '행당', '상현', '응봉', '화곡', '행신', '종로5가', '공릉(서울과학기술대)', '신길온천', '중앙보훈병원', '발산', '대곡', '보라매병원', '삼성중앙', '파주', '석촌고분', '인천공항2터미널', '이매', '역촌', '한성대입구(삼선교)', '수원시청', '개롱', '보라매공원', '개포동', '신논현', '광화문(세종문화회관)', '태릉입구', '당정', '방이', '판교', '수서', '금곡', '금촌', '천호(풍납토성)', '신림', '하계', '동묘앞', '여의도', '송파', '지평', '장암', '창신', '온양온천', '수진', '서강대', '곡산'}\n",
      "['강변', '경복궁', '고려대', '공릉', '광나루', '광화문', '광흥창', '교대', '구의', '군자', '굽은다리', '기흥', '낙성대', '남부터미널', '남한산성입구', '대림', '대흥', '동대문역사문화공원', '동작', '몽촌토성', '미아', '삼성', '상봉', '상월곡', '새절', '서울대입구', '성신여대입구', '숙대입구', '숭실대입구', '신정', '아차산', '안암', '양재', '양재시민의숲', '어린이대공원', '오목교', '온수', '올림픽공원', '왕십리', '용두', '용마산', '월곡', '월드컵경기장', '이수', '이촌', '잠실', '종로3가', '증산', '천호', '청량리', '충정로', '한성대입구', '화랑대', '회현', '흑석']\n",
      "['강변(동서울터미널)', '경복궁(정부서울청사)', '고려대(종암)', '공릉(서울과학기술대)', '광나루(장신대)', '광화문(세종문화회관)', '광흥창(서강)', '교대(법원.검찰청)', '구의(광진구청)', '군자(능동)', '굽은다리(강동구민회관앞)', '기흥(백남준아트센터)', '낙성대(강감찬)', '남부터미널(예술의전당)', '남한산성입구(성남법원.검찰청)', '대림(구로구청)', '대흥(서강대앞)', '도라산', '동대문역사문화공원(DDP)', '동작(현충원)', '몽촌토성(평화의문)', '미아(서울사이버대학)', '삼성(무역센터)', '상봉(시외버스터미널)', '상월곡(한국과학기술연구원)', '새절(신사)', '서울대입구(관악구청)', '성신여대입구(돈암)', '숙대입구(갈월)', '숭실대입구(살피재)', '신정(은행정)', '아차산(어린이대공원후문)', '안암(고대병원앞)', '양재(서초구청)', '양재시민의숲(매헌)', '어린이대공원(세종대)', '오목교(목동운동장앞)', '온수(성공회대입구)', '올림픽공원(한국체대)', '왕십리(성동구청)', '용두(동대문구청)', '용마산(용마폭포공원)', '월곡(동덕여대)', '월드컵경기장(성산)', '이촌(국립중앙박물관)', '잠실(송파구청)', '종로3가(탑골공원)', '증산(명지대앞)', '천호(풍납토성)', '청량리(서울시립대입구)', '충정로(경기대입구)', '한성대입구(삼선교)', '화랑대(서울여대입구)', '회현(남대문시장)', '흑석(중앙대입구)']\n"
     ]
    }
   ],
   "source": [
    "odsay_station_name = set(odsay[\"역사명\"])\n",
    "station_name = set(station[\"역사명\"])\n",
    "\n",
    "odsay_diff = sorted(odsay_station_name - station_name)\n",
    "station_diff = sorted(station_name - odsay_station_name)\n",
    "\n",
    "print(odsay_station_name)\n",
    "print(station_name)\n",
    "print(odsay_diff)\n",
    "print(station_diff)"
   ]
  },
  {
   "cell_type": "code",
   "execution_count": 18,
   "metadata": {},
   "outputs": [],
   "source": [
    "station[\"역사명\"] = station[\"역사명\"].replace({\n",
    "    '강변(동서울터미널)': '강변', \n",
    "    '경복궁(정부서울청사)': '경복궁', \n",
    "    '고려대(종암)': '고려대', \n",
    "    '공릉(서울과학기술대)': '공릉', \n",
    "    '광나루(장신대)': '광나루', \n",
    "    '광화문(세종문화회관)': '광화문', \n",
    "    '광흥창(서강)': '광흥창', \n",
    "    '교대(법원.검찰청)': '교대', \n",
    "    '구의(광진구청)': '구의', \n",
    "    '군자(능동)': '군자', \n",
    "    '굽은다리(강동구민회관앞)': '굽은다리', \n",
    "    '기흥(백남준아트센터)': '기흥', \n",
    "    '낙성대(강감찬)': '낙성대', \n",
    "    '남부터미널(예술의전당)': '남부터미널', \n",
    "    '남한산성입구(성남법원.검찰청)': '남한산성입구', \n",
    "    '대림(구로구청)': '대림', \n",
    "    '대흥(서강대앞)': '대흥', \n",
    "    '동대문역사문화공원(DDP)': '동대문역사문화공원', \n",
    "    '동작(현충원)': '동작', \n",
    "    '몽촌토성(평화의문)': '몽촌토성', \n",
    "    '미아(서울사이버대학)': '미아', \n",
    "    '삼성(무역센터)': '삼성', \n",
    "    '상봉(시외버스터미널)': '상봉', \n",
    "    '상월곡(한국과학기술연구원)': '상월곡', \n",
    "    '새절(신사)': '새절', \n",
    "    '서울대입구(관악구청)': '서울대입구', \n",
    "    '성신여대입구(돈암)': '성신여대입구', \n",
    "    '숙대입구(갈월)': '숙대입구', \n",
    "    '숭실대입구(살피재)': '숭실대입구', \n",
    "    '신정(은행정)': '신정', \n",
    "    '아차산(어린이대공원후문)': '아차산', \n",
    "    '안암(고대병원앞)': '안암', \n",
    "    '양재(서초구청)': '양재', \n",
    "    '양재시민의숲(매헌)': '양재시민의숲', \n",
    "    '어린이대공원(세종대)': '어린이대공원', \n",
    "    '오목교(목동운동장앞)': '오목교', \n",
    "    '온수(성공회대입구)': '온수', \n",
    "    '올림픽공원(한국체대)': '올림픽공원', \n",
    "    '왕십리(성동구청)': '왕십리', \n",
    "    '용두(동대문구청)': '용두', \n",
    "    '용마산(용마폭포공원)': '용마산', \n",
    "    '월곡(동덕여대)': '월곡', \n",
    "    '월드컵경기장(성산)': '월드컵경기장', \n",
    "    '이촌(국립중앙박물관)': '이촌', \n",
    "    '잠실(송파구청)': '잠실', \n",
    "    '종로3가(탑골공원)': '종로3가', \n",
    "    '증산(명지대앞)': '증산', \n",
    "    '천호(풍납토성)': '천호', \n",
    "    '청량리(서울시립대입구)': '청량리', \n",
    "    '충정로(경기대입구)': '충정로', \n",
    "    '한성대입구(삼선교)': '한성대입구', \n",
    "    '화랑대(서울여대입구)': '화랑대', \n",
    "    '회현(남대문시장)': '회현', \n",
    "    '흑석(중앙대입구)': '흑석'\n",
    "})\n"
   ]
  },
  {
   "cell_type": "code",
   "execution_count": 19,
   "metadata": {},
   "outputs": [
    {
     "name": "stdout",
     "output_type": "stream",
     "text": [
      "{'도원', '올림픽공원', '도화', '신용산', '배방', '팔당', '오빈', '선바위', '까치울', '구반포', '도봉', '백마', '잠실', '임진강', '가산디지털단지', '광교중앙(아주대)', '공항시장', '북한산우이', '산곡', '하남시청(덕풍.신장)', '송탄', '광교(경기대)', '명동', '오리', '월롱', '선유도', '까치산', '신방화', '삼송', '경찰병원', '문산', '용답', '상봉', '당고개', '충무로', '신이문', '상일동', '숭실대입구', '무악재', '삼전', '노들', '문래', '서울대벤처타운', '쌍문', '둔촌동', '대야미', '제기동', '구산', '한강진', '구로', '중화', '산성', '마곡', '연수', '탕정', '풍산', '한남', '잠원', '검암', '사당', '창동', '혜화', '암사', '이촌', '야목', '지행', '용마산', '둔촌오륜', '죽전', '신창(순천향대)', '한양대', '야탑', '금정', '몽촌토성', '정왕', '녹양', '역삼', '원인재', '중랑', '망포', '관악', '언주', '구파발', '남춘천', '양재시민의숲', '철산', '고색', '서현', '정발산', '상월곡', '구로디지털단지', '의왕', '백운', '도심', '사리', '보산', '신정', '마두', '압구정로데오', '양천향교', '공항화물청사', '계양', '주엽', '부평구청', '상갈', '마들', '동두천중앙', '서울역', '아차산', '과천', '남태령', '한티', '수색', '거여', '남영', '신길', '고덕', '잠실나루', '신답', '경마공원', '시청', '부천', '강남', '학여울', '구성', '봉명', '수내', '화서', '화전', '독바위', '화계', '먹골', '동대문', '범계', '석계', '동대문역사문화공원', '마천', '단대오거리', '광화문', '보문', '천안', '장한평', '소요산', '신목동', '원덕', '양재', '안산', '오류동', '신갈', '애오개', '청라국제도시', '반월', '천왕', '청구', '화랑대', '월계', '덕계', '고잔', '춘의', '동작', '교대', '남동인더스파크', '종로3가', '동인천', '대성리', '구의', '정부과천청사', '솔샘', '화정', '군포', '남구로', '신당', '고속터미널', '가양', '개봉', '응암', '독립문', '상왕십리', '별내별가람', '수락산', '양천구청', '성균관대', '복정', '인천', '불광', '신도림', '건대입구', '운서', '하남검단산', '소사', '녹사평(용산구청)', '두정', '구일', '마석', '동천', '증미', '청량리', '여의나루', '잠실새내', '광나루', '대청', '대화', '광운대', '매교', '압구정', '직산', '인천공항1터미널', '새절', '송내', '을지로입구', '버티고개', '옥수', '북한산보국문', '구리', '신포', '평촌', '어린이대공원', '쌍용(나사렛대)', '남성', '석수', '을지로3가', '망우', '굴포천', '상동', '당곡', '중동', '등촌', '마포', '솔밭공원', '갈매', '관악산(서울대)', '퇴계원', '내방', '국수', '금천구청', '안양', '4.19민주묘지', '미금', '신설동', '학동', '아산', '평택지제', '산본', '매탄권선', '군자', '천마산', '보라매', '금릉', '신풍', '삼성', '대방', '강매', '한성대입구', '증산', '강변', '가천대', '강동', '오목교', '백석', '초지', '부개', '청평', '백양리', '금호', '소래포구', '서울대입구', '명학', '월곡', '원당', '성신여대입구', '서동탄', '회기', '별내', '어천', '신촌', '청담', '국회의사당', '노량진', '신내', '평택', '도림천', '우장산', '가능', '신흥', '답십리', '중곡', '디지털미디어시티', '신사', '야당', '부평', '영등포구청', '강동구청', '봉화산(서울의료원)', '안암', '서원', '호구포', '대치', '양수', '원흥', '삼각지', '개화산', '마장', '인덕원', '신원', '이수', '운천', '회현', '부천종합운동장', '총신대입구(이수)', '지축', '진접', '노원', '길음', '강일', '신대방삼거리', '정자', '동대입구', '영등포', '미아', '망원', '당산', '오산', '방학', '오이도', '길동', '왕십리', '월곶', '서대문', '대흥', '신금호', '경복궁', '석촌', '신중동', '광명사거리', '가평', '구룡', '운길산', '서울지방병무청', '상도', '남부터미널', '고려대', '녹천', '평내호평', '상천', '공덕', '하남풍산', '매봉', '일원', '중계', '동암', '미아사거리', '달월', '효창공원앞', '방배', '오목천', '장승배기', '샛강', '청명', '안국', '천호', '사릉', '가좌', '부천시청', '영통', '수지구청', '봉은사', '인하대', '약수', '숭의', '홍대입구', '도곡', '보정', '신대방', '망월사', '청계산입구', '도봉산', '삼산체육관', '가오리', '수원', '수유(강북구청)', '세류', '광명', '한성백제', '강촌', '면목', '태평', '상수', '석남(거북시장)', '대림', '마포구청', '월드컵경기장', '중앙', '뚝섬', '간석', '합정', '한대앞', '대공원', '세마', '충정로', '덕정', '삼양사거리', '외대앞', '성수', '굽은다리', '서울숲', '삼양', '진위', '방화', '성환', '봉천', '모란', '영등포시장', '김유정', '논현', '역곡', '사평', '굴봉산', '서빙고', '오금', '용문', '덕소', '서정리', '오남', '가락시장', '홍제', '목동', '의정부', '서초', '사가정', '공릉', '숙대입구', '송도', '인천논현', '양주', '상계', '남위례', '반포', '김포공항', '주안', '양원', '독산', '성복', '일산', '을지로4가', '광흥창', '신반포', '장지', '뚝섬유원지', '기흥', '종합운동장', '영종', '수리산', '명일', '상록수', '개화', '오산대', '이태원', '돌곶이', '회룡', '제물포', '신정네거리', '용두', '미사', '종각', '병점', '아현', '아신', '녹번', '대모산입구', '강남구청', '남한산성입구', '춘천', '송정', '동두천', '염창', '마곡나루', '양평', '문정', '운정', '탄현', '용산', '도농', '능곡', '선정릉', '이대', '송파나루', '양정', '정릉', '선릉', '연신내', '행당', '상현', '응봉', '화곡', '행신', '흑석', '종로5가', '신길온천', '중앙보훈병원', '발산', '대곡', '보라매병원', '삼성중앙', '파주', '온수', '석촌고분', '인천공항2터미널', '이매', '역촌', '수원시청', '개롱', '보라매공원', '개포동', '신논현', '당정', '태릉입구', '방이', '판교', '수서', '금곡', '금촌', '신림', '하계', '동묘앞', '여의도', '송파', '지평', '장암', '창신', '온양온천', '서강대', '수진', '낙성대', '곡산'}\n",
      "{'도원', '올림픽공원', '도화', '신용산', '배방', '팔당', '선바위', '오빈', '까치울', '구반포', '도봉', '백마', '잠실', '임진강', '가산디지털단지', '광교중앙(아주대)', '공항시장', '북한산우이', '산곡', '하남시청(덕풍.신장)', '송탄', '광교(경기대)', '명동', '오리', '월롱', '선유도', '까치산', '신방화', '경찰병원', '삼송', '문산', '용답', '상봉', '당고개', '충무로', '신이문', '상일동', '숭실대입구', '무악재', '노들', '삼전', '문래', '서울대벤처타운', '쌍문', '둔촌동', '제기동', '대야미', '구산', '한강진', '구로', '중화', '산성', '마곡', '연수', '탕정', '풍산', '한남', '잠원', '검암', '사당', '창동', '혜화', '암사', '이촌', '야목', '지행', '용마산', '둔촌오륜', '죽전', '신창(순천향대)', '한양대', '야탑', '금정', '몽촌토성', '정왕', '녹양', '역삼', '원인재', '중랑', '망포', '관악', '언주', '구파발', '남춘천', '양재시민의숲', '철산', '고색', '서현', '정발산', '상월곡', '구로디지털단지', '의왕', '백운', '도심', '사리', '신정', '보산', '마두', '압구정로데오', '양천향교', '공항화물청사', '계양', '주엽', '부평구청', '상갈', '마들', '동두천중앙', '서울역', '아차산', '과천', '남태령', '한티', '수색', '거여', '남영', '신길', '고덕', '잠실나루', '신답', '경마공원', '시청', '부천', '강남', '학여울', '구성', '봉명', '수내', '화서', '독바위', '화전', '화계', '먹골', '동대문', '범계', '석계', '동대문역사문화공원', '마천', '단대오거리', '광화문', '보문', '천안', '장한평', '소요산', '신목동', '원덕', '양재', '안산', '오류동', '신갈', '애오개', '청라국제도시', '반월', '천왕', '청구', '화랑대', '월계', '덕계', '고잔', '춘의', '동작', '교대', '남동인더스파크', '종로3가', '동인천', '대성리', '구의', '정부과천청사', '솔샘', '화정', '군포', '남구로', '신당', '고속터미널', '가양', '개봉', '응암', '독립문', '상왕십리', '별내별가람', '수락산', '양천구청', '성균관대', '복정', '인천', '불광', '신도림', '건대입구', '운서', '하남검단산', '소사', '녹사평(용산구청)', '두정', '구일', '마석', '동천', '증미', '청량리', '여의나루', '잠실새내', '광나루', '대청', '대화', '광운대', '직산', '압구정', '매교', '인천공항1터미널', '새절', '송내', '을지로입구', '버티고개', '옥수', '북한산보국문', '구리', '신포', '평촌', '어린이대공원', '쌍용(나사렛대)', '남성', '석수', '을지로3가', '망우', '굴포천', '상동', '당곡', '등촌', '중동', '마포', '솔밭공원', '갈매', '관악산(서울대)', '퇴계원', '내방', '국수', '금천구청', '안양', '4.19민주묘지', '미금', '신설동', '학동', '아산', '평택지제', '산본', '매탄권선', '군자', '천마산', '보라매', '금릉', '신풍', '삼성', '대방', '강매', '한성대입구', '증산', '강변', '가천대', '강동', '오목교', '백석', '초지', '부개', '청평', '백양리', '금호', '소래포구', '서울대입구', '월곡', '명학', '원당', '성신여대입구', '서동탄', '회기', '별내', '어천', '신촌', '청담', '국회의사당', '노량진', '신내', '평택', '도림천', '우장산', '가능', '답십리', '중곡', '신흥', '디지털미디어시티', '신사', '야당', '부평', '영등포구청', '안암', '봉화산(서울의료원)', '강동구청', '서원', '호구포', '대치', '원흥', '양수', '삼각지', '개화산', '마장', '인덕원', '신원', '회현', '운천', '부천종합운동장', '총신대입구(이수)', '지축', '진접', '노원', '길음', '강일', '신대방삼거리', '정자', '동대입구', '영등포', '미아', '망원', '당산', '오산', '방학', '오이도', '길동', '왕십리', '월곶', '서대문', '대흥', '신금호', '경복궁', '석촌', '신중동', '광명사거리', '가평', '구룡', '운길산', '서울지방병무청', '상도', '남부터미널', '고려대', '녹천', '평내호평', '상천', '공덕', '하남풍산', '매봉', '일원', '중계', '동암', '미아사거리', '달월', '효창공원앞', '방배', '오목천', '장승배기', '샛강', '청명', '안국', '천호', '사릉', '가좌', '부천시청', '영통', '수지구청', '인하대', '봉은사', '약수', '숭의', '홍대입구', '도곡', '보정', '신대방', '망월사', '청계산입구', '도봉산', '삼산체육관', '가오리', '수유(강북구청)', '수원', '세류', '광명', '한성백제', '강촌', '면목', '태평', '상수', '도라산', '석남(거북시장)', '대림', '마포구청', '월드컵경기장', '중앙', '뚝섬', '간석', '합정', '한대앞', '대공원', '세마', '충정로', '덕정', '삼양사거리', '외대앞', '성수', '굽은다리', '삼양', '방화', '진위', '서울숲', '성환', '봉천', '모란', '영등포시장', '김유정', '논현', '역곡', '사평', '굴봉산', '서빙고', '오금', '덕소', '용문', '서정리', '오남', '가락시장', '홍제', '목동', '의정부', '서초', '사가정', '공릉', '숙대입구', '송도', '인천논현', '남위례', '상계', '양주', '반포', '김포공항', '주안', '양원', '독산', '성복', '일산', '을지로4가', '광흥창', '장지', '신반포', '뚝섬유원지', '기흥', '종합운동장', '영종', '수리산', '명일', '상록수', '개화', '오산대', '이태원', '돌곶이', '회룡', '제물포', '신정네거리', '용두', '미사', '종각', '병점', '아현', '아신', '녹번', '대모산입구', '강남구청', '남한산성입구', '춘천', '송정', '동두천', '염창', '마곡나루', '양평', '문정', '운정', '탄현', '용산', '도농', '능곡', '선정릉', '이대', '송파나루', '양정', '정릉', '선릉', '연신내', '행당', '상현', '응봉', '화곡', '행신', '흑석', '종로5가', '신길온천', '중앙보훈병원', '발산', '대곡', '보라매병원', '삼성중앙', '파주', '온수', '석촌고분', '인천공항2터미널', '이매', '역촌', '수원시청', '개롱', '보라매공원', '개포동', '신논현', '태릉입구', '당정', '방이', '판교', '수서', '금곡', '금촌', '신림', '하계', '동묘앞', '여의도', '송파', '지평', '장암', '창신', '온양온천', '수진', '서강대', '낙성대', '곡산'}\n",
      "['이수']\n",
      "['도라산']\n"
     ]
    }
   ],
   "source": [
    "odsay_station_name = set(odsay[\"역사명\"])\n",
    "station_name = set(station[\"역사명\"])\n",
    "\n",
    "odsay_diff = sorted(odsay_station_name - station_name)\n",
    "station_diff = sorted(station_name - odsay_station_name)\n",
    "\n",
    "print(odsay_station_name)\n",
    "print(station_name)\n",
    "print(odsay_diff)\n",
    "print(station_diff)"
   ]
  },
  {
   "cell_type": "code",
   "execution_count": 21,
   "metadata": {},
   "outputs": [
    {
     "data": {
      "text/html": [
       "<div>\n",
       "<style scoped>\n",
       "    .dataframe tbody tr th:only-of-type {\n",
       "        vertical-align: middle;\n",
       "    }\n",
       "\n",
       "    .dataframe tbody tr th {\n",
       "        vertical-align: top;\n",
       "    }\n",
       "\n",
       "    .dataframe thead th {\n",
       "        text-align: right;\n",
       "    }\n",
       "</style>\n",
       "<table border=\"1\" class=\"dataframe\">\n",
       "  <thead>\n",
       "    <tr style=\"text-align: right;\">\n",
       "      <th></th>\n",
       "      <th>역사명</th>\n",
       "      <th>노선명</th>\n",
       "      <th>주소</th>\n",
       "      <th>위도</th>\n",
       "      <th>경도</th>\n",
       "      <th>역번호</th>\n",
       "      <th>외부코드</th>\n",
       "    </tr>\n",
       "  </thead>\n",
       "  <tbody>\n",
       "    <tr>\n",
       "      <th>185</th>\n",
       "      <td>총신대입구(이수)</td>\n",
       "      <td>4호선</td>\n",
       "      <td>서울특별시 동작구 동작대로 지하117(사당동)</td>\n",
       "      <td>37.486263</td>\n",
       "      <td>126.981989</td>\n",
       "      <td>0432</td>\n",
       "      <td>432</td>\n",
       "    </tr>\n",
       "    <tr>\n",
       "      <th>310</th>\n",
       "      <td>총신대입구(이수)</td>\n",
       "      <td>7호선</td>\n",
       "      <td>서울특별시 동작구 사당로 지하310(사당동)</td>\n",
       "      <td>37.485196</td>\n",
       "      <td>126.981605</td>\n",
       "      <td>2738</td>\n",
       "      <td>736</td>\n",
       "    </tr>\n",
       "  </tbody>\n",
       "</table>\n",
       "</div>"
      ],
      "text/plain": [
       "           역사명  노선명                         주소         위도          경도   역번호  \\\n",
       "185  총신대입구(이수)  4호선  서울특별시 동작구 동작대로 지하117(사당동)  37.486263  126.981989  0432   \n",
       "310  총신대입구(이수)  7호선   서울특별시 동작구 사당로 지하310(사당동)  37.485196  126.981605  2738   \n",
       "\n",
       "    외부코드  \n",
       "185  432  \n",
       "310  736  "
      ]
     },
     "execution_count": 21,
     "metadata": {},
     "output_type": "execute_result"
    }
   ],
   "source": [
    "station[station[\"역사명\"] == \"총신대입구(이수)\"]\n",
    "\n",
    "# 7호선 역사명 수동 변경\n",
    "# 도라산은 없어도 무관 (시간표에도 없음, 서울 막차와 무관)"
   ]
  },
  {
   "cell_type": "code",
   "execution_count": 31,
   "metadata": {},
   "outputs": [
    {
     "data": {
      "text/html": [
       "<div>\n",
       "<style scoped>\n",
       "    .dataframe tbody tr th:only-of-type {\n",
       "        vertical-align: middle;\n",
       "    }\n",
       "\n",
       "    .dataframe tbody tr th {\n",
       "        vertical-align: top;\n",
       "    }\n",
       "\n",
       "    .dataframe thead th {\n",
       "        text-align: right;\n",
       "    }\n",
       "</style>\n",
       "<table border=\"1\" class=\"dataframe\">\n",
       "  <thead>\n",
       "    <tr style=\"text-align: right;\">\n",
       "      <th></th>\n",
       "      <th>역사명</th>\n",
       "      <th>노선명</th>\n",
       "      <th>주소</th>\n",
       "      <th>위도</th>\n",
       "      <th>경도</th>\n",
       "      <th>역번호</th>\n",
       "      <th>외부코드</th>\n",
       "      <th>Unnamed: 0</th>\n",
       "      <th>역코드</th>\n",
       "    </tr>\n",
       "  </thead>\n",
       "  <tbody>\n",
       "    <tr>\n",
       "      <th>0</th>\n",
       "      <td>까치울</td>\n",
       "      <td>수도권 7호선</td>\n",
       "      <td>경기도 부천시 원미구 길주로 지하 626 (춘의동)</td>\n",
       "      <td>37.506130</td>\n",
       "      <td>126.810930</td>\n",
       "      <td>3753</td>\n",
       "      <td>751</td>\n",
       "      <td>2.0</td>\n",
       "      <td>751.0</td>\n",
       "    </tr>\n",
       "    <tr>\n",
       "      <th>1</th>\n",
       "      <td>부천종합운동장</td>\n",
       "      <td>수도권 7호선</td>\n",
       "      <td>경기도 부천시 원미구 길주로 지하 502 (춘의동)</td>\n",
       "      <td>37.505020</td>\n",
       "      <td>126.796610</td>\n",
       "      <td>3754</td>\n",
       "      <td>752</td>\n",
       "      <td>3.0</td>\n",
       "      <td>752.0</td>\n",
       "    </tr>\n",
       "    <tr>\n",
       "      <th>2</th>\n",
       "      <td>춘의</td>\n",
       "      <td>수도권 7호선</td>\n",
       "      <td>경기도 부천시 원미구 길주로 지하 406 (춘의동)</td>\n",
       "      <td>37.503650</td>\n",
       "      <td>126.788280</td>\n",
       "      <td>3755</td>\n",
       "      <td>753</td>\n",
       "      <td>4.0</td>\n",
       "      <td>753.0</td>\n",
       "    </tr>\n",
       "    <tr>\n",
       "      <th>3</th>\n",
       "      <td>신중동</td>\n",
       "      <td>수도권 7호선</td>\n",
       "      <td>경기도 부천시 원미구 길주로 지하 314 (중동)</td>\n",
       "      <td>37.502820</td>\n",
       "      <td>126.775660</td>\n",
       "      <td>3756</td>\n",
       "      <td>754</td>\n",
       "      <td>6.0</td>\n",
       "      <td>754.0</td>\n",
       "    </tr>\n",
       "    <tr>\n",
       "      <th>4</th>\n",
       "      <td>부천시청</td>\n",
       "      <td>수도권 7호선</td>\n",
       "      <td>경기도 부천시 원미구 길주로 지하 202 (중동)</td>\n",
       "      <td>37.504440</td>\n",
       "      <td>126.763640</td>\n",
       "      <td>3757</td>\n",
       "      <td>755</td>\n",
       "      <td>7.0</td>\n",
       "      <td>755.0</td>\n",
       "    </tr>\n",
       "    <tr>\n",
       "      <th>...</th>\n",
       "      <td>...</td>\n",
       "      <td>...</td>\n",
       "      <td>...</td>\n",
       "      <td>...</td>\n",
       "      <td>...</td>\n",
       "      <td>...</td>\n",
       "      <td>...</td>\n",
       "      <td>...</td>\n",
       "      <td>...</td>\n",
       "    </tr>\n",
       "    <tr>\n",
       "      <th>645</th>\n",
       "      <td>응봉</td>\n",
       "      <td>경의중앙선</td>\n",
       "      <td>서울시 성동구 고산자로 123(응봉동)</td>\n",
       "      <td>37.549946</td>\n",
       "      <td>127.034538</td>\n",
       "      <td>NaN</td>\n",
       "      <td>NaN</td>\n",
       "      <td>1514.0</td>\n",
       "      <td>193.0</td>\n",
       "    </tr>\n",
       "    <tr>\n",
       "      <th>646</th>\n",
       "      <td>까치산</td>\n",
       "      <td>수도권 2호선</td>\n",
       "      <td>서울특별시 강서구 강서로 54</td>\n",
       "      <td>37.531394</td>\n",
       "      <td>126.846987</td>\n",
       "      <td>0200</td>\n",
       "      <td>NaN</td>\n",
       "      <td>0.0</td>\n",
       "      <td>264.0</td>\n",
       "    </tr>\n",
       "    <tr>\n",
       "      <th>647</th>\n",
       "      <td>도라산</td>\n",
       "      <td>경의중앙선</td>\n",
       "      <td>경기도 파주시 장단면 희망로 307</td>\n",
       "      <td>37.898307</td>\n",
       "      <td>126.709193</td>\n",
       "      <td>NaN</td>\n",
       "      <td>NaN</td>\n",
       "      <td>NaN</td>\n",
       "      <td>NaN</td>\n",
       "    </tr>\n",
       "    <tr>\n",
       "      <th>648</th>\n",
       "      <td>광운대</td>\n",
       "      <td>경춘선</td>\n",
       "      <td>서울특별시 노원구 석계로 98-2</td>\n",
       "      <td>37.623986</td>\n",
       "      <td>127.061956</td>\n",
       "      <td>1305</td>\n",
       "      <td>NaN</td>\n",
       "      <td>2310.0</td>\n",
       "      <td>1809.0</td>\n",
       "    </tr>\n",
       "    <tr>\n",
       "      <th>649</th>\n",
       "      <td>이수</td>\n",
       "      <td>수도권 7호선</td>\n",
       "      <td>NaN</td>\n",
       "      <td>NaN</td>\n",
       "      <td>NaN</td>\n",
       "      <td>NaN</td>\n",
       "      <td>NaN</td>\n",
       "      <td>790.0</td>\n",
       "      <td>736.0</td>\n",
       "    </tr>\n",
       "  </tbody>\n",
       "</table>\n",
       "<p>650 rows × 9 columns</p>\n",
       "</div>"
      ],
      "text/plain": [
       "         역사명      노선명                            주소         위도          경도  \\\n",
       "0        까치울  수도권 7호선  경기도 부천시 원미구 길주로 지하 626 (춘의동)  37.506130  126.810930   \n",
       "1    부천종합운동장  수도권 7호선  경기도 부천시 원미구 길주로 지하 502 (춘의동)  37.505020  126.796610   \n",
       "2         춘의  수도권 7호선  경기도 부천시 원미구 길주로 지하 406 (춘의동)  37.503650  126.788280   \n",
       "3        신중동  수도권 7호선   경기도 부천시 원미구 길주로 지하 314 (중동)  37.502820  126.775660   \n",
       "4       부천시청  수도권 7호선   경기도 부천시 원미구 길주로 지하 202 (중동)  37.504440  126.763640   \n",
       "..       ...      ...                           ...        ...         ...   \n",
       "645       응봉    경의중앙선         서울시 성동구 고산자로 123(응봉동)  37.549946  127.034538   \n",
       "646      까치산  수도권 2호선              서울특별시 강서구 강서로 54  37.531394  126.846987   \n",
       "647      도라산    경의중앙선           경기도 파주시 장단면 희망로 307  37.898307  126.709193   \n",
       "648      광운대      경춘선            서울특별시 노원구 석계로 98-2  37.623986  127.061956   \n",
       "649       이수  수도권 7호선                           NaN        NaN         NaN   \n",
       "\n",
       "      역번호 외부코드  Unnamed: 0     역코드  \n",
       "0    3753  751         2.0   751.0  \n",
       "1    3754  752         3.0   752.0  \n",
       "2    3755  753         4.0   753.0  \n",
       "3    3756  754         6.0   754.0  \n",
       "4    3757  755         7.0   755.0  \n",
       "..    ...  ...         ...     ...  \n",
       "645   NaN  NaN      1514.0   193.0  \n",
       "646  0200  NaN         0.0   264.0  \n",
       "647   NaN  NaN         NaN     NaN  \n",
       "648  1305  NaN      2310.0  1809.0  \n",
       "649   NaN  NaN       790.0   736.0  \n",
       "\n",
       "[650 rows x 9 columns]"
      ]
     },
     "execution_count": 31,
     "metadata": {},
     "output_type": "execute_result"
    }
   ],
   "source": [
    "result = pd.merge(station, odsay, on=['역사명', '노선명'], how='outer')\n",
    "\n",
    "result"
   ]
  },
  {
   "cell_type": "code",
   "execution_count": 32,
   "metadata": {},
   "outputs": [],
   "source": [
    "result.to_csv(\"result_train_station_withcode.csv\")"
   ]
  }
 ],
 "metadata": {
  "kernelspec": {
   "display_name": "Python 3",
   "language": "python",
   "name": "python3"
  },
  "language_info": {
   "codemirror_mode": {
    "name": "ipython",
    "version": 3
   },
   "file_extension": ".py",
   "mimetype": "text/x-python",
   "name": "python",
   "nbconvert_exporter": "python",
   "pygments_lexer": "ipython3",
   "version": "3.10.7"
  },
  "orig_nbformat": 4,
  "vscode": {
   "interpreter": {
    "hash": "ea7391df5ff2f01663b1c00fee2b06964403f2affcb3e4b731ee4e43b104207f"
   }
  }
 },
 "nbformat": 4,
 "nbformat_minor": 2
}
