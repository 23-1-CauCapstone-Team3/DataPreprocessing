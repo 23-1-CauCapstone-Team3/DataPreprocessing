{
 "cells": [
  {
   "attachments": {},
   "cell_type": "markdown",
   "metadata": {},
   "source": [
    "# 🚆Train_seoul\n",
    "서울을 지나는 지하철 노선만 추리기"
   ]
  },
  {
   "attachments": {},
   "cell_type": "markdown",
   "metadata": {},
   "source": [
    "### TODO\n",
    "- [X] 노선별로 지역 경계 확인\n",
    "- [X] 경계에서 벗어나는 노선 제거\n",
    "- [ ] 경계에서 벗어나는 역 제거"
   ]
  },
  {
   "attachments": {},
   "cell_type": "markdown",
   "metadata": {},
   "source": [
    "### 0. import"
   ]
  },
  {
   "cell_type": "code",
   "execution_count": 1,
   "metadata": {},
   "outputs": [],
   "source": [
    "import pandas as pd\n",
    "import numpy as np\n",
    "import seaborn as sns\n",
    "from matplotlib import pyplot as plt\n",
    "from IPython.display import set_matplotlib_formats\n",
    "import koreanize_matplotlib\n",
    "import folium\n",
    "from folium.plugins import MarkerCluster\n",
    "import json"
   ]
  },
  {
   "attachments": {},
   "cell_type": "markdown",
   "metadata": {},
   "source": [
    "### 1. 노선별로 지역 경계 확인"
   ]
  },
  {
   "cell_type": "code",
   "execution_count": 6,
   "metadata": {},
   "outputs": [],
   "source": [
    "# 데이터 읽어오기\n",
    "station = pd.read_csv('result_train_station.csv')\n",
    "\n",
    "routes = ['1호선', '2호선', '3호선', '4호선', '5호선', '6호선', '7호선', '8호선', '9호선', '경강선', '경의중앙선', '경춘선',\n",
    "          '공항철도선', '김포골드라인', '서해선', '수인분당선', '신림선', '신분당선', '에버라인선', '우이신설선', '의정부선', '인천1호선', '인천2호선']\n",
    "\n",
    "# 파일로 저장\n",
    "for i in range(len(routes)):\n",
    "    geo_station = station[station[\"노선명\"] == routes[i]].copy()\n",
    "    \n",
    "    # 중심 설정\n",
    "    fmap = folium.Map(location=[geo_station['위도'].mean(\n",
    "    ), geo_station['경도'].mean()], zoom_start=8)\n",
    "\n",
    "    # 행정구역 표시\n",
    "    geo_line = json.load(open('../TL_SCCO_CTPRVN.json', encoding='utf-8'))\n",
    "    folium.GeoJson(geo_line).add_to(fmap)\n",
    "\n",
    "    # 마커 표시\n",
    "    for n in geo_station.index:\n",
    "        # 팝업에 들어갈 텍스트를 지정\n",
    "        popup_name = str(geo_station.loc[n, '위도']) + \", \" + str(geo_station.loc[n, '경도']) + \\\n",
    "            \" \\n\" + geo_station.loc[n, '역사명'] + ' - ' + geo_station.loc[n, '노선명']\n",
    "        \n",
    "        folium.Marker(\n",
    "            location=[geo_station.loc[n, '위도'], geo_station.loc[n, '경도']],\n",
    "            popup=popup_name, \n",
    "            tooltip=popup_name\n",
    "        ).add_to(fmap)\n",
    "    \n",
    "    fmap.save(routes[i] + '_station.html')\n",
    "    \n",
    "# 확인 결과, 경강선, 김포골드라인, 서해선, 에버라인선, 의정부선, 인천1/2호선은 아예 서울을 지나지 않거나 한 역만 지남\n",
    "# 또한, 서울 -> 서울 환승 구간에도 사용되지 않을 것 같음 (멀어지는 방향이므로)\n",
    "# 따라서, 해당 노선들에 대한 역은 제거해도 된다고 판단\n",
    "# 다른 노선들에 대한 역정보는 일단 제거하지 않거나 추후 허브를 만들 때 제거하기\n"
   ]
  },
  {
   "attachments": {},
   "cell_type": "markdown",
   "metadata": {},
   "source": [
    "### 2. 경계에서 벗어나는 노선 제거"
   ]
  },
  {
   "cell_type": "code",
   "execution_count": 8,
   "metadata": {},
   "outputs": [
    {
     "data": {
      "text/plain": [
       "{'1호선',\n",
       " '2호선',\n",
       " '3호선',\n",
       " '4호선',\n",
       " '5호선',\n",
       " '6호선',\n",
       " '7호선',\n",
       " '8호선',\n",
       " '9호선',\n",
       " '경의중앙선',\n",
       " '경춘선',\n",
       " '공항철도선',\n",
       " '수인분당선',\n",
       " '신림선',\n",
       " '신분당선',\n",
       " '우이신설선'}"
      ]
     },
     "execution_count": 8,
     "metadata": {},
     "output_type": "execute_result"
    }
   ],
   "source": [
    "station = station[(station['노선명'] != '경강선')]\n",
    "station = station[(station['노선명'] != '김포골드라인')]\n",
    "station = station[(station['노선명'] != '서해선')]\n",
    "station = station[(station['노선명'] != '에버라인선')]\n",
    "station = station[(station['노선명'] != '의정부선')]\n",
    "station = station[(station['노선명'] != '인천1호선')]\n",
    "station = station[(station['노선명'] != '인천2호선')]\n",
    "\n",
    "set(station['노선명'])"
   ]
  },
  {
   "cell_type": "code",
   "execution_count": 9,
   "metadata": {},
   "outputs": [],
   "source": [
    "# 파일에 저장\n",
    "station.to_csv(\"result_train_station.csv\")"
   ]
  }
 ],
 "metadata": {
  "kernelspec": {
   "display_name": "Python 3",
   "language": "python",
   "name": "python3"
  },
  "language_info": {
   "codemirror_mode": {
    "name": "ipython",
    "version": 3
   },
   "file_extension": ".py",
   "mimetype": "text/x-python",
   "name": "python",
   "nbconvert_exporter": "python",
   "pygments_lexer": "ipython3",
   "version": "3.10.7"
  },
  "orig_nbformat": 4
 },
 "nbformat": 4,
 "nbformat_minor": 2
}
